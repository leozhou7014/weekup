{
 "cells": [
  {
   "cell_type": "markdown",
   "id": "dca8f638",
   "metadata": {},
   "source": [
    "用户信息及帖子数据来源：mongodb170\n",
    "\n",
    "word2vec语言模型由新闻数据集得到\n",
    "\n",
    "用户兴趣属性：财经、影视、美食、美妆、抽奖、游戏"
   ]
  },
  {
   "cell_type": "code",
   "execution_count": 1,
   "id": "7a6caccb",
   "metadata": {},
   "outputs": [
    {
     "name": "stderr",
     "output_type": "stream",
     "text": [
      "D:\\software\\anaconda\\envs\\nlp\\lib\\site-packages\\gensim\\similarities\\__init__.py:15: UserWarning: The gensim.similarities.levenshtein submodule is disabled, because the optional Levenshtein package <https://pypi.org/project/python-Levenshtein/> is unavailable. Install Levenhstein (e.g. `pip install python-Levenshtein`) to suppress this warning.\n",
      "  warnings.warn(msg)\n"
     ]
    }
   ],
   "source": [
    "import numpy as np\n",
    "import pandas as pd\n",
    "import time\n",
    "import gensim\n",
    "from gensim.models import Word2Vec"
   ]
  },
  {
   "cell_type": "code",
   "execution_count": 2,
   "id": "af4f4807",
   "metadata": {},
   "outputs": [
    {
     "data": {
      "text/html": [
       "<div>\n",
       "<style scoped>\n",
       "    .dataframe tbody tr th:only-of-type {\n",
       "        vertical-align: middle;\n",
       "    }\n",
       "\n",
       "    .dataframe tbody tr th {\n",
       "        vertical-align: top;\n",
       "    }\n",
       "\n",
       "    .dataframe thead th {\n",
       "        text-align: right;\n",
       "    }\n",
       "</style>\n",
       "<table border=\"1\" class=\"dataframe\">\n",
       "  <thead>\n",
       "    <tr style=\"text-align: right;\">\n",
       "      <th></th>\n",
       "      <th>Unnamed: 0</th>\n",
       "      <th>user_id</th>\n",
       "      <th>content_seq</th>\n",
       "      <th>content_select</th>\n",
       "    </tr>\n",
       "  </thead>\n",
       "  <tbody>\n",
       "    <tr>\n",
       "      <th>0</th>\n",
       "      <td>0</td>\n",
       "      <td>1005479541</td>\n",
       "      <td>['漂亮', '行车', '常喝', '纯粮', '清香', '荣耀', '味道', '  ...</td>\n",
       "      <td>['行车', '纯粮', '清香', '味道', '英格兰', '足球', '未成年', '...</td>\n",
       "    </tr>\n",
       "    <tr>\n",
       "      <th>1</th>\n",
       "      <td>1</td>\n",
       "      <td>1020397963</td>\n",
       "      <td>['      薇娅直播间 ', '奖金', '升至', '13000元', '支付宝', ...</td>\n",
       "      <td>['奖金', '支付宝', '机动车', '野生动物', '道德', '动物', '野生动物']</td>\n",
       "    </tr>\n",
       "    <tr>\n",
       "      <th>2</th>\n",
       "      <td>3</td>\n",
       "      <td>1044951575</td>\n",
       "      <td>['力挺', '拿破仑', '苏菲的世界 哈姆雷特 平凡的世界', '力挺', '力挺', ...</td>\n",
       "      <td>['拿破仑', '朋克', '养生', '联盟', '英格兰', '英格兰', 'Hi欧洲杯...</td>\n",
       "    </tr>\n",
       "    <tr>\n",
       "      <th>3</th>\n",
       "      <td>4</td>\n",
       "      <td>1098316774</td>\n",
       "      <td>['重男轻女', '还算', '理解', '为啥', '干货', '实用', '真好看', ...</td>\n",
       "      <td>['重男轻女', '干货', '同事', '胃口', '小红书', '薯片', '谷物', ...</td>\n",
       "    </tr>\n",
       "    <tr>\n",
       "      <th>4</th>\n",
       "      <td>5</td>\n",
       "      <td>1106310547</td>\n",
       "      <td>['long time no 转🍣 ', '1000', '水果金  ', '杯子', '这...</td>\n",
       "      <td>['水果金  ', '杯子', '演唱会', '三石', '弟弟', '男友力', '女主们...</td>\n",
       "    </tr>\n",
       "    <tr>\n",
       "      <th>...</th>\n",
       "      <td>...</td>\n",
       "      <td>...</td>\n",
       "      <td>...</td>\n",
       "      <td>...</td>\n",
       "    </tr>\n",
       "    <tr>\n",
       "      <th>2099</th>\n",
       "      <td>2161</td>\n",
       "      <td>7625520024</td>\n",
       "      <td>['森贝儿', '家族', '35周年', '摄影', '大赛', '  父亲节', '暑假...</td>\n",
       "      <td>['森贝儿', '家族', '摄影', '大赛', '  父亲节', '暑假', '趣味',...</td>\n",
       "    </tr>\n",
       "    <tr>\n",
       "      <th>2100</th>\n",
       "      <td>2162</td>\n",
       "      <td>7626713402</td>\n",
       "      <td>['厂房', '高级', '高级', '氨基酸', '洗面奶', '心中', '充满', '...</td>\n",
       "      <td>['厂房', '氨基酸', '洗面奶', '心中', '阳光', '粽叶', '清芬蕴', ...</td>\n",
       "    </tr>\n",
       "    <tr>\n",
       "      <th>2101</th>\n",
       "      <td>2163</td>\n",
       "      <td>7642494018</td>\n",
       "      <td>['能量', '站胡', '青春', 'od胡', '一片风云', '    ', '失败'...</td>\n",
       "      <td>['能量', '青春', 'od胡', '一片风云', '    ', '失败', '插曲'...</td>\n",
       "    </tr>\n",
       "    <tr>\n",
       "      <th>2102</th>\n",
       "      <td>2164</td>\n",
       "      <td>7644833370</td>\n",
       "      <td>['2021超级红人节', '年度', '人气', '红人', '评选', '进行时', '...</td>\n",
       "      <td>['2021超级红人节', '年度', '人气', '红人', '  ', '人气值', '...</td>\n",
       "    </tr>\n",
       "    <tr>\n",
       "      <th>2103</th>\n",
       "      <td>2165</td>\n",
       "      <td>7645518897</td>\n",
       "      <td>['9周年', '锦鲤', '大奖', '一人', '小道', '阿道夫', '茶麸', '...</td>\n",
       "      <td>['锦鲤', '大奖', '一人', '小道', '阿道夫', '茶麸', '头发', '礼...</td>\n",
       "    </tr>\n",
       "  </tbody>\n",
       "</table>\n",
       "<p>2104 rows × 4 columns</p>\n",
       "</div>"
      ],
      "text/plain": [
       "      Unnamed: 0     user_id  \\\n",
       "0              0  1005479541   \n",
       "1              1  1020397963   \n",
       "2              3  1044951575   \n",
       "3              4  1098316774   \n",
       "4              5  1106310547   \n",
       "...          ...         ...   \n",
       "2099        2161  7625520024   \n",
       "2100        2162  7626713402   \n",
       "2101        2163  7642494018   \n",
       "2102        2164  7644833370   \n",
       "2103        2165  7645518897   \n",
       "\n",
       "                                            content_seq  \\\n",
       "0     ['漂亮', '行车', '常喝', '纯粮', '清香', '荣耀', '味道', '  ...   \n",
       "1     ['      薇娅直播间 ', '奖金', '升至', '13000元', '支付宝', ...   \n",
       "2     ['力挺', '拿破仑', '苏菲的世界 哈姆雷特 平凡的世界', '力挺', '力挺', ...   \n",
       "3     ['重男轻女', '还算', '理解', '为啥', '干货', '实用', '真好看', ...   \n",
       "4     ['long time no 转🍣 ', '1000', '水果金  ', '杯子', '这...   \n",
       "...                                                 ...   \n",
       "2099  ['森贝儿', '家族', '35周年', '摄影', '大赛', '  父亲节', '暑假...   \n",
       "2100  ['厂房', '高级', '高级', '氨基酸', '洗面奶', '心中', '充满', '...   \n",
       "2101  ['能量', '站胡', '青春', 'od胡', '一片风云', '    ', '失败'...   \n",
       "2102  ['2021超级红人节', '年度', '人气', '红人', '评选', '进行时', '...   \n",
       "2103  ['9周年', '锦鲤', '大奖', '一人', '小道', '阿道夫', '茶麸', '...   \n",
       "\n",
       "                                         content_select  \n",
       "0     ['行车', '纯粮', '清香', '味道', '英格兰', '足球', '未成年', '...  \n",
       "1      ['奖金', '支付宝', '机动车', '野生动物', '道德', '动物', '野生动物']  \n",
       "2     ['拿破仑', '朋克', '养生', '联盟', '英格兰', '英格兰', 'Hi欧洲杯...  \n",
       "3     ['重男轻女', '干货', '同事', '胃口', '小红书', '薯片', '谷物', ...  \n",
       "4     ['水果金  ', '杯子', '演唱会', '三石', '弟弟', '男友力', '女主们...  \n",
       "...                                                 ...  \n",
       "2099  ['森贝儿', '家族', '摄影', '大赛', '  父亲节', '暑假', '趣味',...  \n",
       "2100  ['厂房', '氨基酸', '洗面奶', '心中', '阳光', '粽叶', '清芬蕴', ...  \n",
       "2101  ['能量', '青春', 'od胡', '一片风云', '    ', '失败', '插曲'...  \n",
       "2102  ['2021超级红人节', '年度', '人气', '红人', '  ', '人气值', '...  \n",
       "2103  ['锦鲤', '大奖', '一人', '小道', '阿道夫', '茶麸', '头发', '礼...  \n",
       "\n",
       "[2104 rows x 4 columns]"
      ]
     },
     "execution_count": 2,
     "metadata": {},
     "output_type": "execute_result"
    }
   ],
   "source": [
    "df = pd.read_csv(r'D:\\datasets\\qianyi\\user_label\\file\\用户帖子分词.csv')     \n",
    "'''\n",
    "该表格文件包含了发帖用户的帖子的分词结果以及词性筛选的结果\n",
    "'''\n",
    "df"
   ]
  },
  {
   "cell_type": "markdown",
   "id": "9a1ce04c",
   "metadata": {},
   "source": [
    "- 加载训练好的模型 新闻语料库"
   ]
  },
  {
   "cell_type": "code",
   "execution_count": 3,
   "id": "0f750a39",
   "metadata": {},
   "outputs": [],
   "source": [
    "temporary_filepath = r'D:\\datasets\\qianyi\\user_label\\model\\news\\news1.model'       "
   ]
  },
  {
   "cell_type": "code",
   "execution_count": 4,
   "id": "072988ea",
   "metadata": {},
   "outputs": [],
   "source": [
    "new_model = gensim.models.Word2Vec.load(temporary_filepath)   #加载通过新闻数据集训练得到的word2vec模型"
   ]
  },
  {
   "cell_type": "code",
   "execution_count": 5,
   "id": "710db8e0",
   "metadata": {},
   "outputs": [
    {
     "data": {
      "text/plain": [
       "[('小吃', 0.7150667309761047),\n",
       " ('民俗', 0.6971307396888733),\n",
       " ('美味', 0.6969258189201355),\n",
       " ('风味', 0.6948721408843994),\n",
       " ('原汁', 0.6823420524597168),\n",
       " ('风情', 0.6793425679206848),\n",
       " ('爱好者们', 0.6742376685142517),\n",
       " ('菜肴', 0.6695668697357178),\n",
       " ('原生态', 0.6675362586975098),\n",
       " ('大餐', 0.664411723613739)]"
      ]
     },
     "execution_count": 5,
     "metadata": {},
     "output_type": "execute_result"
    }
   ],
   "source": [
    "new_model.wv.similar_by_word('美食',topn=10)                  #检验模型的运行效果"
   ]
  },
  {
   "cell_type": "code",
   "execution_count": 70,
   "id": "e14fa11f",
   "metadata": {},
   "outputs": [
    {
     "data": {
      "text/plain": [
       "[('网游', 0.7844884395599365),\n",
       " ('玩法', 0.6984279155731201),\n",
       " ('玩家', 0.6737046241760254),\n",
       " ('网页游戏', 0.6589308977127075),\n",
       " ('软件', 0.6478015184402466),\n",
       " ('３Ｄ游戏', 0.6270312666893005),\n",
       " ('界面', 0.6203691959381104),\n",
       " ('小游戏', 0.6201997399330139),\n",
       " ('服务器', 0.6190690398216248),\n",
       " ('应用程序', 0.612619936466217)]"
      ]
     },
     "execution_count": 70,
     "metadata": {},
     "output_type": "execute_result"
    }
   ],
   "source": [
    "new_model.wv.similar_by_word('游戏',topn=10)                  #检验模型的运行效果                    "
   ]
  },
  {
   "cell_type": "code",
   "execution_count": 7,
   "id": "b66dd068",
   "metadata": {},
   "outputs": [
    {
     "data": {
      "text/plain": [
       "0.11798279"
      ]
     },
     "execution_count": 7,
     "metadata": {},
     "output_type": "execute_result"
    }
   ],
   "source": [
    "new_model.wv.similarity('行车','游戏')"
   ]
  },
  {
   "cell_type": "code",
   "execution_count": 8,
   "id": "5c58a597",
   "metadata": {},
   "outputs": [
    {
     "data": {
      "text/plain": [
       "732482"
      ]
     },
     "execution_count": 8,
     "metadata": {},
     "output_type": "execute_result"
    }
   ],
   "source": [
    "len(new_model.wv.index_to_key)                              #加载的word2vec模型包含词向量的个数"
   ]
  },
  {
   "cell_type": "code",
   "execution_count": 9,
   "id": "10ee5294",
   "metadata": {},
   "outputs": [
    {
     "data": {
      "text/plain": [
       "['行车',\n",
       " '纯粮',\n",
       " '清香',\n",
       " '味道',\n",
       " '英格兰',\n",
       " '足球',\n",
       " '未成年',\n",
       " '菌菇',\n",
       " '宝贝涛',\n",
       " '冠军',\n",
       " '张继科',\n",
       " '可期',\n",
       " '愿望',\n",
       " '星商学院',\n",
       " '眼中',\n",
       " '加盟',\n",
       " '行业',\n",
       " '话题',\n",
       " '百度大厂',\n",
       " '实习',\n",
       " '百度人',\n",
       " '童鞋',\n",
       " '活动',\n",
       " '卷发',\n",
       " '  ',\n",
       " '幸运鹅',\n",
       " '加盟星',\n",
       " '加湿器',\n",
       " '好机会',\n",
       " '等人',\n",
       " '朋友',\n",
       " '原汁',\n",
       " '果汁',\n",
       " '气泡',\n",
       " '摩飞气泡原汁机',\n",
       " 'DIY',\n",
       " '创意',\n",
       " '饮品',\n",
       " 'n+',\n",
       " '气泡',\n",
       " '果汁',\n",
       " '新玩法',\n",
       " '百变摩',\n",
       " '潮范',\n",
       " '劳动者',\n",
       " 'style',\n",
       " '诗意',\n",
       " '远方',\n",
       " '话题',\n",
       " '新时代',\n",
       " '劳动',\n",
       " '享受观',\n",
       " '新时代',\n",
       " '劳动',\n",
       " '观金句',\n",
       " '盲盒',\n",
       " '套装',\n",
       " '废话',\n",
       " '舒小羊',\n",
       " '颐和园',\n",
       " '盲盒',\n",
       " '好运',\n",
       " '冲冲冲',\n",
       " '舒小羊',\n",
       " '末班车',\n",
       " '打工',\n",
       " '蓝牙',\n",
       " '耳机',\n",
       " '朋友',\n",
       " '行车',\n",
       " '美酒',\n",
       " '佳肴',\n",
       " '油条',\n",
       " '豆腐脑',\n",
       " '爸妈',\n",
       " '乡村',\n",
       " '朋友',\n",
       " '沱酒',\n",
       " '五号',\n",
       " '奇弹',\n",
       " 'Lite',\n",
       " '跑步',\n",
       " '跑鞋',\n",
       " '京东鸿星尔克官方旗舰店',\n",
       " '本本',\n",
       " '话题',\n",
       " '奇弹Lite',\n",
       " '粉丝',\n",
       " '跑鞋',\n",
       " '非海报',\n",
       " '同款',\n",
       " '奇弹Lite',\n",
       " '跑步',\n",
       " '跑鞋',\n",
       " '京东鸿星尔克官方旗舰店',\n",
       " '本本',\n",
       " '  ',\n",
       " '奇弹Lite',\n",
       " '麦籽送鸿星尔克',\n",
       " '跑鞋',\n",
       " '居家',\n",
       " '居家',\n",
       " '五一有科龙',\n",
       " '挂烫机',\n",
       " '  欣',\n",
       " '伴侣',\n",
       " '小狮子',\n",
       " '福利',\n",
       " '  ',\n",
       " '粉丝',\n",
       " '葱伴侣',\n",
       " '产品',\n",
       " '礼包',\n",
       " '马拉丁',\n",
       " '尾巴',\n",
       " '  ',\n",
       " '话题',\n",
       " '欧利芙洋',\n",
       " '粉丝',\n",
       " '福袋',\n",
       " '  ',\n",
       " '向往',\n",
       " 'zao',\n",
       " '乡村',\n",
       " '杏仁',\n",
       " '电影',\n",
       " '福利',\n",
       " '角色',\n",
       " '小宝贝',\n",
       " '麦咪',\n",
       " '新品',\n",
       " '盲盒',\n",
       " 'ASTALIFT',\n",
       " '艾诗缇净皙',\n",
       " '防晒',\n",
       " '美容液',\n",
       " '福力',\n",
       " '三主摄',\n",
       " '三摄同录',\n",
       " '视角',\n",
       " '素材',\n",
       " '神器',\n",
       " '中兴Axon30',\n",
       " '中兴Axon30',\n",
       " 'ZTE LiveBus',\n",
       " '蓝牙',\n",
       " '耳机',\n",
       " '美食家',\n",
       " '好声音',\n",
       " '棒棒哒',\n",
       " '敢浪',\n",
       " '福利',\n",
       " '春光',\n",
       " '小酌',\n",
       " '麸质',\n",
       " '蔗糖',\n",
       " '脂肪',\n",
       " '果汁',\n",
       " '发泡酒',\n",
       " '海南离岛',\n",
       " '  千言千语为爱行动',\n",
       " '一个字',\n",
       " '海狸',\n",
       " '海狸',\n",
       " '刘通联',\n",
       " '烤鳕鱼',\n",
       " '小食',\n",
       " '折纸',\n",
       " '艺术',\n",
       " '碰撞',\n",
       " '话题',\n",
       " '卷评',\n",
       " '本博',\n",
       " '鳕鱼',\n",
       " '香遇',\n",
       " '香遇沙龙',\n",
       " '香水',\n",
       " '香遇',\n",
       " '话题',\n",
       " '本博',\n",
       " '香水',\n",
       " '烈儿',\n",
       " '直播间',\n",
       " '牛年',\n",
       " '小柒',\n",
       " '豪橫',\n",
       " '菲仕乐',\n",
       " '代言人',\n",
       " '费启鸣  ',\n",
       " '敢浪',\n",
       " '福利',\n",
       " '春光',\n",
       " '小酌',\n",
       " '果汁',\n",
       " '本博',\n",
       " '体验装',\n",
       " '聚通',\n",
       " '品质',\n",
       " '家装节',\n",
       " '装修',\n",
       " '轻体重',\n",
       " '居家',\n",
       " '聚通',\n",
       " '本博',\n",
       " '多功能',\n",
       " '工具箱',\n",
       " '罗总',\n",
       " '霸气']"
      ]
     },
     "execution_count": 9,
     "metadata": {},
     "output_type": "execute_result"
    }
   ],
   "source": [
    "eval(df['content_select'][0])                               #将字符串变为一个列表"
   ]
  },
  {
   "cell_type": "code",
   "execution_count": 10,
   "id": "bae6dd1f",
   "metadata": {},
   "outputs": [
    {
     "data": {
      "text/plain": [
       "208"
      ]
     },
     "execution_count": 10,
     "metadata": {},
     "output_type": "execute_result"
    }
   ],
   "source": [
    "len(eval(df['content_select'][0]) )                       #第一个用户词性筛选后的词数目（约数）"
   ]
  },
  {
   "cell_type": "markdown",
   "id": "7cd56a0e",
   "metadata": {},
   "source": [
    "## 游戏"
   ]
  },
  {
   "cell_type": "markdown",
   "id": "6672c5bc",
   "metadata": {},
   "source": [
    "- 第一个用户对游戏的兴趣值"
   ]
  },
  {
   "cell_type": "code",
   "execution_count": 12,
   "id": "fd7fce94",
   "metadata": {},
   "outputs": [
    {
     "name": "stdout",
     "output_type": "stream",
     "text": [
      "[0.11798279, 0.06283471, 0.08242863, 0.23835966, 0.13014364, 0.3097878, -0.010135446, -0.0052371845, 0, 0.09321945, 0.11141283, 0.07727546, 0.08025016, 0, 0.05067127, 0.21692418, 0.3430533, 0.34518737, 0, -0.035122953, 0, 0.16461423, 0.3178121, 0.27323028, 0, 0, 0, 0.21525358, 0.23495382, -0.19978699, 0.23375957, 0.2759276, 0.26421425, 0.16797769, 0, 0, 0.49361816, 0.30012733, 0, 0.16797769, 0.26421425, 0.43790132, 0, 0.10074857, 0.053739786, 0, 0.3077693, 0.13623291, 0.34518737, 0.37865323, -0.0015409142, 0, 0.37865323, -0.0015409142, 0, 0, 0.42109007, 0.13634029, 0, 0.041811, 0, 0.11958616, -0.0028140843, 0, -0.04419531, -0.05648338, 0.27147996, 0.30226034, 0.23375957, 0.11798279, 0.21967822, 0.1694584, 0.08699767, 0.019292813, 0.048305012, -0.04395709, 0.23375957, 0, 0.06504151, 0, 0, 0.30367282, 0.07473214, 0, 0.38321763, 0.34518737, 0, 0.36642092, 0.07473214, 0, 0.2404916, 0, 0.30367282, 0.07473214, 0, 0.38321763, 0, 0, 0, 0.07473214, 0.30561465, 0.30561465, 0, 0, 0, 0.33404982, -0.02622569, 0.15140414, 0, 0.36642092, 0, 0.5470044, 0.4695204, 0.1586952, 0.06364377, 0, 0.34518737, 0, 0.36642092, 0.32453004, 0, 0.20036635, 0, -0.04395709, 0.15740524, 0.6059246, 0.15140414, 0.44971514, 0.10722306, 0, 0.5075013, 0, 0, 0, 0.26447484, 0.088857226, 0, 0, 0, 0.41412786, 0.32970023, 0.40670395, 0, 0, 0, 0.27147996, 0.30226034, 0.047247317, 0.27294216, 0, 0, 0.15140414, 0.15143047, 0.16505575, 0, 0.14263636, 0.22727773, 0.26421425, 0, 0, 0, 0.11900013, 0.105865054, 0.105865054, 0, 0, 0.11553745, 0.098912016, 0.33073995, 0.24058306, 0.34518737, 0, 0, 0.1328376, 0, 0, 0.39060062, 0, 0.34518737, 0, 0.39060062, 0, 0.27693453, -0.017203044, 0, 0, 0, 0.32107145, 0, 0, 0.15140414, 0.15143047, 0.16505575, 0.26421425, 0, 0, 0, 0.31813744, 0, 0.19320725, 0.058666117, 0.30561465, 0, 0, 0.1979504, 0.23120582, 0, 0.20564252]\n",
      "133\n",
      "0.2058230069066797\n"
     ]
    }
   ],
   "source": [
    "interest_score = []                                                            #每个词语和游戏的相似度\n",
    "interest_related = 0                                                           #词性筛选后的结果在预料库中的词数目\n",
    "for i in range(len(eval(df['content_select'][0]))):\n",
    "    try:\n",
    "        a = new_model.wv.similarity('游戏',eval(df['content_select'][0])[i])   #计算词性筛选后的词与游戏的相似度\n",
    "        interest_score.append(a) \n",
    "        i += 1\n",
    "        interest_related += 1\n",
    "    except KeyError:\n",
    "        interest_score.append(0)                                               #处理词性筛选结果不在预料库中的情况\n",
    "print(interest_score)                                                          #每个词语和游戏的相似度\n",
    "print(interest_related)                                                        #词性筛选后的结果在预料库中的词数目\n",
    "if interest_related==0:\n",
    "    print(0)                                                                   \n",
    "else:\n",
    "    print(np.sum(interest_score)/interest_related)                             #计算第一个用户对游戏的兴趣值"
   ]
  },
  {
   "cell_type": "markdown",
   "id": "7c5f94ef",
   "metadata": {},
   "source": [
    "- 第二个用户对游戏的兴趣值"
   ]
  },
  {
   "cell_type": "code",
   "execution_count": 13,
   "id": "0f1ab2cb",
   "metadata": {},
   "outputs": [
    {
     "name": "stdout",
     "output_type": "stream",
     "text": [
      "[0.063214496, 0.4356628, 0.041309755, 0.0072358847, 0.1329971, 0.16575213, 0.0072358847]\n",
      "7\n",
      "0.12191543408802577\n"
     ]
    }
   ],
   "source": [
    "a = 1\n",
    "interest_score = []\n",
    "interest_related = 0\n",
    "for i in range(len(eval(df['content_select'][a]))):\n",
    "    try:\n",
    "        b = new_model.wv.similarity('游戏',eval(df['content_select'][a])[i])\n",
    "        interest_score.append(b) \n",
    "        i += 1\n",
    "        interest_related += 1\n",
    "    except KeyError:\n",
    "        intersst_score.append(0)\n",
    "print(interest_score)\n",
    "print(interest_related)\n",
    "if interest_related==0:\n",
    "    print(0)\n",
    "else:\n",
    "    print(np.sum(interest_score)/interest_related)"
   ]
  },
  {
   "cell_type": "code",
   "execution_count": 25,
   "id": "f22e7db2",
   "metadata": {},
   "outputs": [],
   "source": [
    "def interest_game_cal(x):\n",
    "    interest_score = []\n",
    "    interest_related = 0\n",
    "    for i in range(len(eval(x))):\n",
    "        try:\n",
    "            a = new_model.wv.similarity('游戏',eval(x)[i])\n",
    "            interest_score.append(a)\n",
    "            i += 1\n",
    "            interest_related += 1\n",
    "        except KeyError:\n",
    "            interest_score.append(0)\n",
    "    if interest_related == 0:\n",
    "        return 0\n",
    "    else:\n",
    "        return np.sum(interest_score)/interest_related   "
   ]
  },
  {
   "cell_type": "code",
   "execution_count": 27,
   "id": "d9b03c36",
   "metadata": {},
   "outputs": [
    {
     "name": "stdout",
     "output_type": "stream",
     "text": [
      "0\n"
     ]
    }
   ],
   "source": [
    "print(interest_game_cal(df['content_select'][90]))"
   ]
  },
  {
   "cell_type": "code",
   "execution_count": 29,
   "id": "dbf55df1",
   "metadata": {},
   "outputs": [
    {
     "name": "stdout",
     "output_type": "stream",
     "text": [
      "285.14202094078064\n"
     ]
    }
   ],
   "source": [
    "start_time = time.time()\n",
    "\n",
    "df['game_interest_value'] = df['content_select'].apply(lambda x:interest_game_cal(x))\n",
    "print(df['game_interest_value'])\n",
    "\n",
    "end_time = time.time()\n",
    "\n",
    "print(end_time-start_time)"
   ]
  },
  {
   "cell_type": "code",
   "execution_count": 30,
   "id": "b45b69bc",
   "metadata": {},
   "outputs": [
    {
     "data": {
      "text/html": [
       "<div>\n",
       "<style scoped>\n",
       "    .dataframe tbody tr th:only-of-type {\n",
       "        vertical-align: middle;\n",
       "    }\n",
       "\n",
       "    .dataframe tbody tr th {\n",
       "        vertical-align: top;\n",
       "    }\n",
       "\n",
       "    .dataframe thead th {\n",
       "        text-align: right;\n",
       "    }\n",
       "</style>\n",
       "<table border=\"1\" class=\"dataframe\">\n",
       "  <thead>\n",
       "    <tr style=\"text-align: right;\">\n",
       "      <th></th>\n",
       "      <th>Unnamed: 0</th>\n",
       "      <th>user_id</th>\n",
       "      <th>content_seq</th>\n",
       "      <th>content_select</th>\n",
       "      <th>game_interest_value</th>\n",
       "    </tr>\n",
       "  </thead>\n",
       "  <tbody>\n",
       "    <tr>\n",
       "      <th>0</th>\n",
       "      <td>0</td>\n",
       "      <td>1005479541</td>\n",
       "      <td>['漂亮', '行车', '常喝', '纯粮', '清香', '荣耀', '味道', '  ...</td>\n",
       "      <td>['行车', '纯粮', '清香', '味道', '英格兰', '足球', '未成年', '...</td>\n",
       "      <td>0.205823</td>\n",
       "    </tr>\n",
       "    <tr>\n",
       "      <th>1</th>\n",
       "      <td>1</td>\n",
       "      <td>1020397963</td>\n",
       "      <td>['      薇娅直播间 ', '奖金', '升至', '13000元', '支付宝', ...</td>\n",
       "      <td>['奖金', '支付宝', '机动车', '野生动物', '道德', '动物', '野生动物']</td>\n",
       "      <td>0.121915</td>\n",
       "    </tr>\n",
       "    <tr>\n",
       "      <th>2</th>\n",
       "      <td>3</td>\n",
       "      <td>1044951575</td>\n",
       "      <td>['力挺', '拿破仑', '苏菲的世界 哈姆雷特 平凡的世界', '力挺', '力挺', ...</td>\n",
       "      <td>['拿破仑', '朋克', '养生', '联盟', '英格兰', '英格兰', 'Hi欧洲杯...</td>\n",
       "      <td>0.133061</td>\n",
       "    </tr>\n",
       "    <tr>\n",
       "      <th>3</th>\n",
       "      <td>4</td>\n",
       "      <td>1098316774</td>\n",
       "      <td>['重男轻女', '还算', '理解', '为啥', '干货', '实用', '真好看', ...</td>\n",
       "      <td>['重男轻女', '干货', '同事', '胃口', '小红书', '薯片', '谷物', ...</td>\n",
       "      <td>0.150025</td>\n",
       "    </tr>\n",
       "    <tr>\n",
       "      <th>4</th>\n",
       "      <td>5</td>\n",
       "      <td>1106310547</td>\n",
       "      <td>['long time no 转🍣 ', '1000', '水果金  ', '杯子', '这...</td>\n",
       "      <td>['水果金  ', '杯子', '演唱会', '三石', '弟弟', '男友力', '女主们...</td>\n",
       "      <td>0.189555</td>\n",
       "    </tr>\n",
       "    <tr>\n",
       "      <th>...</th>\n",
       "      <td>...</td>\n",
       "      <td>...</td>\n",
       "      <td>...</td>\n",
       "      <td>...</td>\n",
       "      <td>...</td>\n",
       "    </tr>\n",
       "    <tr>\n",
       "      <th>2099</th>\n",
       "      <td>2161</td>\n",
       "      <td>7625520024</td>\n",
       "      <td>['森贝儿', '家族', '35周年', '摄影', '大赛', '  父亲节', '暑假...</td>\n",
       "      <td>['森贝儿', '家族', '摄影', '大赛', '  父亲节', '暑假', '趣味',...</td>\n",
       "      <td>0.251821</td>\n",
       "    </tr>\n",
       "    <tr>\n",
       "      <th>2100</th>\n",
       "      <td>2162</td>\n",
       "      <td>7626713402</td>\n",
       "      <td>['厂房', '高级', '高级', '氨基酸', '洗面奶', '心中', '充满', '...</td>\n",
       "      <td>['厂房', '氨基酸', '洗面奶', '心中', '阳光', '粽叶', '清芬蕴', ...</td>\n",
       "      <td>0.185167</td>\n",
       "    </tr>\n",
       "    <tr>\n",
       "      <th>2101</th>\n",
       "      <td>2163</td>\n",
       "      <td>7642494018</td>\n",
       "      <td>['能量', '站胡', '青春', 'od胡', '一片风云', '    ', '失败'...</td>\n",
       "      <td>['能量', '青春', 'od胡', '一片风云', '    ', '失败', '插曲'...</td>\n",
       "      <td>0.188268</td>\n",
       "    </tr>\n",
       "    <tr>\n",
       "      <th>2102</th>\n",
       "      <td>2164</td>\n",
       "      <td>7644833370</td>\n",
       "      <td>['2021超级红人节', '年度', '人气', '红人', '评选', '进行时', '...</td>\n",
       "      <td>['2021超级红人节', '年度', '人气', '红人', '  ', '人气值', '...</td>\n",
       "      <td>0.208727</td>\n",
       "    </tr>\n",
       "    <tr>\n",
       "      <th>2103</th>\n",
       "      <td>2165</td>\n",
       "      <td>7645518897</td>\n",
       "      <td>['9周年', '锦鲤', '大奖', '一人', '小道', '阿道夫', '茶麸', '...</td>\n",
       "      <td>['锦鲤', '大奖', '一人', '小道', '阿道夫', '茶麸', '头发', '礼...</td>\n",
       "      <td>0.177570</td>\n",
       "    </tr>\n",
       "  </tbody>\n",
       "</table>\n",
       "<p>2104 rows × 5 columns</p>\n",
       "</div>"
      ],
      "text/plain": [
       "      Unnamed: 0     user_id  \\\n",
       "0              0  1005479541   \n",
       "1              1  1020397963   \n",
       "2              3  1044951575   \n",
       "3              4  1098316774   \n",
       "4              5  1106310547   \n",
       "...          ...         ...   \n",
       "2099        2161  7625520024   \n",
       "2100        2162  7626713402   \n",
       "2101        2163  7642494018   \n",
       "2102        2164  7644833370   \n",
       "2103        2165  7645518897   \n",
       "\n",
       "                                            content_seq  \\\n",
       "0     ['漂亮', '行车', '常喝', '纯粮', '清香', '荣耀', '味道', '  ...   \n",
       "1     ['      薇娅直播间 ', '奖金', '升至', '13000元', '支付宝', ...   \n",
       "2     ['力挺', '拿破仑', '苏菲的世界 哈姆雷特 平凡的世界', '力挺', '力挺', ...   \n",
       "3     ['重男轻女', '还算', '理解', '为啥', '干货', '实用', '真好看', ...   \n",
       "4     ['long time no 转🍣 ', '1000', '水果金  ', '杯子', '这...   \n",
       "...                                                 ...   \n",
       "2099  ['森贝儿', '家族', '35周年', '摄影', '大赛', '  父亲节', '暑假...   \n",
       "2100  ['厂房', '高级', '高级', '氨基酸', '洗面奶', '心中', '充满', '...   \n",
       "2101  ['能量', '站胡', '青春', 'od胡', '一片风云', '    ', '失败'...   \n",
       "2102  ['2021超级红人节', '年度', '人气', '红人', '评选', '进行时', '...   \n",
       "2103  ['9周年', '锦鲤', '大奖', '一人', '小道', '阿道夫', '茶麸', '...   \n",
       "\n",
       "                                         content_select  game_interest_value  \n",
       "0     ['行车', '纯粮', '清香', '味道', '英格兰', '足球', '未成年', '...             0.205823  \n",
       "1      ['奖金', '支付宝', '机动车', '野生动物', '道德', '动物', '野生动物']             0.121915  \n",
       "2     ['拿破仑', '朋克', '养生', '联盟', '英格兰', '英格兰', 'Hi欧洲杯...             0.133061  \n",
       "3     ['重男轻女', '干货', '同事', '胃口', '小红书', '薯片', '谷物', ...             0.150025  \n",
       "4     ['水果金  ', '杯子', '演唱会', '三石', '弟弟', '男友力', '女主们...             0.189555  \n",
       "...                                                 ...                  ...  \n",
       "2099  ['森贝儿', '家族', '摄影', '大赛', '  父亲节', '暑假', '趣味',...             0.251821  \n",
       "2100  ['厂房', '氨基酸', '洗面奶', '心中', '阳光', '粽叶', '清芬蕴', ...             0.185167  \n",
       "2101  ['能量', '青春', 'od胡', '一片风云', '    ', '失败', '插曲'...             0.188268  \n",
       "2102  ['2021超级红人节', '年度', '人气', '红人', '  ', '人气值', '...             0.208727  \n",
       "2103  ['锦鲤', '大奖', '一人', '小道', '阿道夫', '茶麸', '头发', '礼...             0.177570  \n",
       "\n",
       "[2104 rows x 5 columns]"
      ]
     },
     "execution_count": 30,
     "metadata": {},
     "output_type": "execute_result"
    }
   ],
   "source": [
    "df"
   ]
  },
  {
   "cell_type": "markdown",
   "id": "24d631be",
   "metadata": {},
   "source": [
    "## 财经"
   ]
  },
  {
   "cell_type": "markdown",
   "id": "ea3d186e",
   "metadata": {},
   "source": [
    "- 第一个用户对财经的兴趣值"
   ]
  },
  {
   "cell_type": "code",
   "execution_count": 38,
   "id": "20f9c0e9",
   "metadata": {},
   "outputs": [
    {
     "name": "stdout",
     "output_type": "stream",
     "text": [
      "[-0.097690314, 0.032614727, 0.019166388, -0.12539962, -0.03245339, 0.051539827, -0.11554682, 0.10404765, 0, -0.023071373, 0.0032858881, 0.14261994, -0.12146586, 0, 0.027575621, 0.109787434, 0.21605688, 0.18654417, 0, 0.17800239, 0, 0.10377443, -0.112869345, -0.00087565184, 0, 0, 0, 0.118355334, -0.03243309, 0.01740134, -0.1754014, 0.055119503, -0.057384245, -0.107889265, 0, 0, 0.18656111, 0.031129971, 0, -0.107889265, -0.057384245, 0.16084558, 0, 0.1338759, -0.031181324, 0, 0.0015452169, 0.06160665, 0.18654417, 0.07757236, -0.09844464, 0, 0.07757236, -0.09844464, 0, 0, -0.043287367, 0.05417515, 0, 0.19764633, 0, -0.17607112, 0.062023852, 0, 0.027599446, -0.14227538, 0.1405617, -0.022584938, -0.1754014, -0.097690314, 0.03843315, -0.013815146, -0.09613734, 0.10463044, -0.09157467, 0.021794325, -0.1754014, 0, 0.15595566, 0, 0, -0.021784462, 0.27300462, 0, 0.0277351, 0.18654417, 0, 0.029665936, 0.27300462, 0, 0.084513545, 0, -0.021784462, 0.27300462, 0, 0.0277351, 0, 0, 0, 0.27300462, 0.0023664609, 0.0023664609, 0, 0, 0, -0.1675383, 0.07780432, -0.02062337, 0, 0.029665936, 0, 0.06009522, -0.034058027, 0.1179772, -0.14136562, 0, 0.18654417, 0, 0.029665936, 0.007881165, 0, -0.0074986313, 0, 0.021794325, 0.05968817, 0.07984942, -0.02062337, -0.054053828, 0.098394826, 0, 0.11793758, 0, 0, 0, 0.06785247, 0.24439934, 0, 0, 0, 0.10259331, 0.06264053, -0.02705127, 0, 0, 0, 0.1405617, -0.022584938, 0.24377336, 0.051475525, 0, 0, -0.02062337, 0.012283094, 0.090860166, 0, 0.1313188, -0.23863494, -0.057384245, 0, 0, 0, 0.15101445, 0.0021886528, 0.0021886528, 0, 0, 0.08405546, 0.13485429, 0.1328958, -0.24434805, 0.18654417, 0, 0, 0.10466738, 0, 0, 0.15093932, 0, 0.18654417, 0, 0.15093932, 0, 0.27083647, 0.063932166, 0, 0, 0, 0.30823505, 0, 0, -0.02062337, 0.012283094, 0.090860166, -0.057384245, 0, 0, 0, -0.025456198, 0, -0.1207915, -0.06448842, 0.0023664609, 0, 0, 0.045010537, 0.038255077, 0, -0.08106127]\n",
      "133\n",
      "0.03603572846229251\n"
     ]
    }
   ],
   "source": [
    "a = 0\n",
    "interest_score = []\n",
    "interest_related = 0\n",
    "for i in range(len(eval(df['content_select'][a]))):\n",
    "    try:\n",
    "        b = new_model.wv.similarity('财经',eval(df['content_select'][a])[i])\n",
    "        interest_score.append(b) \n",
    "        i += 1\n",
    "        interest_related += 1\n",
    "    except KeyError:\n",
    "        interest_score.append(0)\n",
    "print(interest_score)\n",
    "print(interest_related)\n",
    "if interest_related==0:\n",
    "    print(0)\n",
    "else:\n",
    "    print(np.sum(interest_score)/interest_related)"
   ]
  },
  {
   "cell_type": "markdown",
   "id": "680fabd9",
   "metadata": {},
   "source": [
    "- 第91个用户对财经的兴趣值"
   ]
  },
  {
   "cell_type": "code",
   "execution_count": 39,
   "id": "214d2150",
   "metadata": {},
   "outputs": [
    {
     "name": "stdout",
     "output_type": "stream",
     "text": [
      "[0]\n",
      "0\n",
      "0\n"
     ]
    }
   ],
   "source": [
    "a = 90\n",
    "interest_score = []\n",
    "interest_related = 0\n",
    "for i in range(len(eval(df['content_select'][a]))):\n",
    "    try:\n",
    "        b = new_model.wv.similarity('财经',eval(df['content_select'][a])[i])\n",
    "        interest_score.append(a) \n",
    "        i += 1\n",
    "        interest_related += 1\n",
    "    except KeyError:\n",
    "        interest_score.append(0)\n",
    "print(interest_score)\n",
    "print(interest_related)\n",
    "if interest_related==0:\n",
    "    print(0)\n",
    "else:\n",
    "    print(np.sum(interest_score)/interest_related)"
   ]
  },
  {
   "cell_type": "code",
   "execution_count": 41,
   "id": "9e12c367",
   "metadata": {},
   "outputs": [],
   "source": [
    "def interest_finance_cal(x):\n",
    "    interest_score = []\n",
    "    interest_related = 0\n",
    "    for i in range(len(eval(x))):\n",
    "        try:\n",
    "            a = new_model.wv.similarity('财经',eval(x)[i])\n",
    "            interest_score.append(a)\n",
    "            i += 1\n",
    "            interest_related += 1\n",
    "        except KeyError:\n",
    "            interest_score.append(0)\n",
    "    if interest_related == 0:\n",
    "        return 0\n",
    "    else:\n",
    "        return np.sum(interest_score)/interest_related "
   ]
  },
  {
   "cell_type": "code",
   "execution_count": 66,
   "id": "4984f2f9",
   "metadata": {},
   "outputs": [
    {
     "name": "stdout",
     "output_type": "stream",
     "text": [
      "0       0.036036\n",
      "1       0.030911\n",
      "2       0.045991\n",
      "3       0.010680\n",
      "4       0.037727\n",
      "          ...   \n",
      "2099    0.026099\n",
      "2100   -0.051887\n",
      "2101   -0.087033\n",
      "2102    0.124483\n",
      "2103   -0.008579\n",
      "Name: finance_interest_value, Length: 2104, dtype: float64\n",
      "295.4775755405426\n"
     ]
    }
   ],
   "source": [
    "start_time = time.time()\n",
    "\n",
    "df['finance_interest_value'] = df['content_select'].apply(lambda x:interest_finance_cal(x))\n",
    "print(df['finance_interest_value'])\n",
    "\n",
    "end_time = time.time()\n",
    "\n",
    "print(end_time-start_time)"
   ]
  },
  {
   "cell_type": "code",
   "execution_count": null,
   "id": "da75e392",
   "metadata": {},
   "outputs": [],
   "source": []
  },
  {
   "cell_type": "markdown",
   "id": "ff4725f0",
   "metadata": {},
   "source": [
    "## 影视"
   ]
  },
  {
   "cell_type": "markdown",
   "id": "890bb898",
   "metadata": {},
   "source": [
    "- 第一个用户对影视的兴趣值"
   ]
  },
  {
   "cell_type": "code",
   "execution_count": 43,
   "id": "aa9efc07",
   "metadata": {},
   "outputs": [
    {
     "name": "stdout",
     "output_type": "stream",
     "text": [
      "[-0.19004512, 0.23616262, 0.12724034, 0.15690726, -0.055752885, 0.18982434, -0.11073587, 0.2239787, 0, 0.049763512, -0.02415096, 0.14482278, -0.06645913, 0, 0.061287332, 0.3743122, 0.264745, 0.3159981, 0, 0.13479242, 0, 0.095671564, 0.19479883, 0.14621729, 0, 0, 0, 0.09605018, 0.071463145, 0.086674705, 0.087029554, 0.35650077, 0.16901675, -0.05864185, 0, 0, 0.61193204, 0.26106778, 0, -0.05864185, 0.16901675, 0.31660068, 0, 0.18923426, -0.14520076, 0, 0.32384396, 0.13584968, 0.3159981, 0.22889484, -0.084485196, 0, 0.22889484, -0.084485196, 0, 0, 0.17175701, 0.02598624, 0, 0.13900593, 0, -0.0932448, -0.059413057, 0, 0.0119796395, 0.06289567, 0.14130074, 0.07703201, 0.087029554, -0.19004512, 0.22484702, 0.17103991, 0.018672172, 0.107431844, -0.046017967, 0.1141592, 0.087029554, 0, 0.14616539, 0, 0, 0.12775101, 0.13625854, 0, 0.15384482, 0.3159981, 0, 0.2872339, 0.13625854, 0, 0.28247085, 0, 0.12775101, 0.13625854, 0, 0.15384482, 0, 0, 0, 0.13625854, 0.15039071, 0.15039071, 0, 0, 0, 0.064598605, -0.00246674, -8.048862e-05, 0, 0.2872339, 0, 0.34492314, 0.20039806, 0.19768718, -0.004431449, 0, 0.3159981, 0, 0.2872339, 0.110777155, 0, 0.17605117, 0, 0.1141592, 0.18074068, 0.6330315, -8.048862e-05, 0.28248468, 0.059660506, 0, 0.41849703, 0, 0, 0, 0.0624424, 0.106641926, 0, 0, 0, 0.27633023, 0.3157434, 0.24121207, 0, 0, 0, 0.14130074, 0.07703201, 0.18124746, 0.27878585, 0, 0, -8.048862e-05, 0.15330616, 0.091427214, 0, 0.18581644, -0.09624055, 0.16901675, 0, 0, 0, 0.14142218, 0.051806137, 0.051806137, 0, 0, 0.29424664, 0.26638877, 0.5337784, -0.014696855, 0.3159981, 0, 0, 0.06543086, 0, 0, 0.40116823, 0, 0.3159981, 0, 0.40116823, 0, 0.2870934, 0.16452017, 0, 0, 0, 0.5528358, 0, 0, -8.048862e-05, 0.15330616, 0.091427214, 0.16901675, 0, 0, 0, 0.20681496, 0, 0.10218564, -0.00996941, 0.15039071, 0, 0, 0.115026325, 0.1367343, 0, 0.13985765]\n",
      "133\n",
      "0.1497171723276825\n"
     ]
    }
   ],
   "source": [
    "a = 0\n",
    "interest_score = []\n",
    "interest_related = 0\n",
    "for i in range(len(eval(df['content_select'][a]))):\n",
    "    try:\n",
    "        b = new_model.wv.similarity('影视',eval(df['content_select'][a])[i])\n",
    "        interest_score.append(b) \n",
    "        i += 1\n",
    "        interest_related += 1\n",
    "    except KeyError:\n",
    "        interest_score.append(0)\n",
    "print(interest_score)\n",
    "print(interest_related)\n",
    "if interest_related==0:\n",
    "    print(0)\n",
    "else:\n",
    "    print(np.sum(interest_score)/interest_related)"
   ]
  },
  {
   "cell_type": "code",
   "execution_count": 44,
   "id": "bd8e16f5",
   "metadata": {},
   "outputs": [],
   "source": [
    "def interest_video_cal(x):\n",
    "    interest_score = []\n",
    "    interest_related = 0\n",
    "    for i in range(len(eval(x))):\n",
    "        try:\n",
    "            a = new_model.wv.similarity('影视',eval(x)[i])\n",
    "            interest_score.append(a)\n",
    "            i += 1\n",
    "            interest_related += 1\n",
    "        except KeyError:\n",
    "            interest_score.append(0)\n",
    "    if interest_related == 0:\n",
    "        return 0\n",
    "    else:\n",
    "        return np.sum(interest_score)/interest_related "
   ]
  },
  {
   "cell_type": "code",
   "execution_count": 46,
   "id": "73ef68bd",
   "metadata": {},
   "outputs": [
    {
     "name": "stdout",
     "output_type": "stream",
     "text": [
      "0.1960379240502204\n"
     ]
    }
   ],
   "source": [
    "print(interest_video_cal(df['content_select'][18]))"
   ]
  },
  {
   "cell_type": "code",
   "execution_count": 64,
   "id": "336bc6db",
   "metadata": {},
   "outputs": [
    {
     "name": "stdout",
     "output_type": "stream",
     "text": [
      "0       0.149717\n",
      "1       0.051642\n",
      "2       0.121215\n",
      "3       0.110937\n",
      "4       0.198826\n",
      "          ...   \n",
      "2099    0.246385\n",
      "2100    0.064736\n",
      "2101    0.051547\n",
      "2102    0.312040\n",
      "2103    0.130382\n",
      "Name: video_interest_value, Length: 2104, dtype: float64\n",
      "346.45728635787964\n"
     ]
    }
   ],
   "source": [
    "start_time = time.time()\n",
    "\n",
    "df['video_interest_value'] = df['content_select'].apply(lambda x:interest_video_cal(x))\n",
    "print(df['video_interest_value'])\n",
    "\n",
    "end_time = time.time()\n",
    "\n",
    "print(end_time-start_time)"
   ]
  },
  {
   "cell_type": "code",
   "execution_count": 49,
   "id": "7b39cf39",
   "metadata": {},
   "outputs": [
    {
     "data": {
      "text/html": [
       "<div>\n",
       "<style scoped>\n",
       "    .dataframe tbody tr th:only-of-type {\n",
       "        vertical-align: middle;\n",
       "    }\n",
       "\n",
       "    .dataframe tbody tr th {\n",
       "        vertical-align: top;\n",
       "    }\n",
       "\n",
       "    .dataframe thead th {\n",
       "        text-align: right;\n",
       "    }\n",
       "</style>\n",
       "<table border=\"1\" class=\"dataframe\">\n",
       "  <thead>\n",
       "    <tr style=\"text-align: right;\">\n",
       "      <th></th>\n",
       "      <th>Unnamed: 0</th>\n",
       "      <th>user_id</th>\n",
       "      <th>content_seq</th>\n",
       "      <th>content_select</th>\n",
       "      <th>game_interest_value</th>\n",
       "      <th>finance_interest_value</th>\n",
       "    </tr>\n",
       "  </thead>\n",
       "  <tbody>\n",
       "    <tr>\n",
       "      <th>0</th>\n",
       "      <td>0</td>\n",
       "      <td>1005479541</td>\n",
       "      <td>['漂亮', '行车', '常喝', '纯粮', '清香', '荣耀', '味道', '  ...</td>\n",
       "      <td>['行车', '纯粮', '清香', '味道', '英格兰', '足球', '未成年', '...</td>\n",
       "      <td>0.205823</td>\n",
       "      <td>0.149717</td>\n",
       "    </tr>\n",
       "    <tr>\n",
       "      <th>1</th>\n",
       "      <td>1</td>\n",
       "      <td>1020397963</td>\n",
       "      <td>['      薇娅直播间 ', '奖金', '升至', '13000元', '支付宝', ...</td>\n",
       "      <td>['奖金', '支付宝', '机动车', '野生动物', '道德', '动物', '野生动物']</td>\n",
       "      <td>0.121915</td>\n",
       "      <td>0.051642</td>\n",
       "    </tr>\n",
       "    <tr>\n",
       "      <th>2</th>\n",
       "      <td>3</td>\n",
       "      <td>1044951575</td>\n",
       "      <td>['力挺', '拿破仑', '苏菲的世界 哈姆雷特 平凡的世界', '力挺', '力挺', ...</td>\n",
       "      <td>['拿破仑', '朋克', '养生', '联盟', '英格兰', '英格兰', 'Hi欧洲杯...</td>\n",
       "      <td>0.133061</td>\n",
       "      <td>0.121215</td>\n",
       "    </tr>\n",
       "    <tr>\n",
       "      <th>3</th>\n",
       "      <td>4</td>\n",
       "      <td>1098316774</td>\n",
       "      <td>['重男轻女', '还算', '理解', '为啥', '干货', '实用', '真好看', ...</td>\n",
       "      <td>['重男轻女', '干货', '同事', '胃口', '小红书', '薯片', '谷物', ...</td>\n",
       "      <td>0.150025</td>\n",
       "      <td>0.110937</td>\n",
       "    </tr>\n",
       "    <tr>\n",
       "      <th>4</th>\n",
       "      <td>5</td>\n",
       "      <td>1106310547</td>\n",
       "      <td>['long time no 转🍣 ', '1000', '水果金  ', '杯子', '这...</td>\n",
       "      <td>['水果金  ', '杯子', '演唱会', '三石', '弟弟', '男友力', '女主们...</td>\n",
       "      <td>0.189555</td>\n",
       "      <td>0.198826</td>\n",
       "    </tr>\n",
       "    <tr>\n",
       "      <th>...</th>\n",
       "      <td>...</td>\n",
       "      <td>...</td>\n",
       "      <td>...</td>\n",
       "      <td>...</td>\n",
       "      <td>...</td>\n",
       "      <td>...</td>\n",
       "    </tr>\n",
       "    <tr>\n",
       "      <th>2099</th>\n",
       "      <td>2161</td>\n",
       "      <td>7625520024</td>\n",
       "      <td>['森贝儿', '家族', '35周年', '摄影', '大赛', '  父亲节', '暑假...</td>\n",
       "      <td>['森贝儿', '家族', '摄影', '大赛', '  父亲节', '暑假', '趣味',...</td>\n",
       "      <td>0.251821</td>\n",
       "      <td>0.246385</td>\n",
       "    </tr>\n",
       "    <tr>\n",
       "      <th>2100</th>\n",
       "      <td>2162</td>\n",
       "      <td>7626713402</td>\n",
       "      <td>['厂房', '高级', '高级', '氨基酸', '洗面奶', '心中', '充满', '...</td>\n",
       "      <td>['厂房', '氨基酸', '洗面奶', '心中', '阳光', '粽叶', '清芬蕴', ...</td>\n",
       "      <td>0.185167</td>\n",
       "      <td>0.064736</td>\n",
       "    </tr>\n",
       "    <tr>\n",
       "      <th>2101</th>\n",
       "      <td>2163</td>\n",
       "      <td>7642494018</td>\n",
       "      <td>['能量', '站胡', '青春', 'od胡', '一片风云', '    ', '失败'...</td>\n",
       "      <td>['能量', '青春', 'od胡', '一片风云', '    ', '失败', '插曲'...</td>\n",
       "      <td>0.188268</td>\n",
       "      <td>0.051547</td>\n",
       "    </tr>\n",
       "    <tr>\n",
       "      <th>2102</th>\n",
       "      <td>2164</td>\n",
       "      <td>7644833370</td>\n",
       "      <td>['2021超级红人节', '年度', '人气', '红人', '评选', '进行时', '...</td>\n",
       "      <td>['2021超级红人节', '年度', '人气', '红人', '  ', '人气值', '...</td>\n",
       "      <td>0.208727</td>\n",
       "      <td>0.312040</td>\n",
       "    </tr>\n",
       "    <tr>\n",
       "      <th>2103</th>\n",
       "      <td>2165</td>\n",
       "      <td>7645518897</td>\n",
       "      <td>['9周年', '锦鲤', '大奖', '一人', '小道', '阿道夫', '茶麸', '...</td>\n",
       "      <td>['锦鲤', '大奖', '一人', '小道', '阿道夫', '茶麸', '头发', '礼...</td>\n",
       "      <td>0.177570</td>\n",
       "      <td>0.130382</td>\n",
       "    </tr>\n",
       "  </tbody>\n",
       "</table>\n",
       "<p>2104 rows × 6 columns</p>\n",
       "</div>"
      ],
      "text/plain": [
       "      Unnamed: 0     user_id  \\\n",
       "0              0  1005479541   \n",
       "1              1  1020397963   \n",
       "2              3  1044951575   \n",
       "3              4  1098316774   \n",
       "4              5  1106310547   \n",
       "...          ...         ...   \n",
       "2099        2161  7625520024   \n",
       "2100        2162  7626713402   \n",
       "2101        2163  7642494018   \n",
       "2102        2164  7644833370   \n",
       "2103        2165  7645518897   \n",
       "\n",
       "                                            content_seq  \\\n",
       "0     ['漂亮', '行车', '常喝', '纯粮', '清香', '荣耀', '味道', '  ...   \n",
       "1     ['      薇娅直播间 ', '奖金', '升至', '13000元', '支付宝', ...   \n",
       "2     ['力挺', '拿破仑', '苏菲的世界 哈姆雷特 平凡的世界', '力挺', '力挺', ...   \n",
       "3     ['重男轻女', '还算', '理解', '为啥', '干货', '实用', '真好看', ...   \n",
       "4     ['long time no 转🍣 ', '1000', '水果金  ', '杯子', '这...   \n",
       "...                                                 ...   \n",
       "2099  ['森贝儿', '家族', '35周年', '摄影', '大赛', '  父亲节', '暑假...   \n",
       "2100  ['厂房', '高级', '高级', '氨基酸', '洗面奶', '心中', '充满', '...   \n",
       "2101  ['能量', '站胡', '青春', 'od胡', '一片风云', '    ', '失败'...   \n",
       "2102  ['2021超级红人节', '年度', '人气', '红人', '评选', '进行时', '...   \n",
       "2103  ['9周年', '锦鲤', '大奖', '一人', '小道', '阿道夫', '茶麸', '...   \n",
       "\n",
       "                                         content_select  game_interest_value  \\\n",
       "0     ['行车', '纯粮', '清香', '味道', '英格兰', '足球', '未成年', '...             0.205823   \n",
       "1      ['奖金', '支付宝', '机动车', '野生动物', '道德', '动物', '野生动物']             0.121915   \n",
       "2     ['拿破仑', '朋克', '养生', '联盟', '英格兰', '英格兰', 'Hi欧洲杯...             0.133061   \n",
       "3     ['重男轻女', '干货', '同事', '胃口', '小红书', '薯片', '谷物', ...             0.150025   \n",
       "4     ['水果金  ', '杯子', '演唱会', '三石', '弟弟', '男友力', '女主们...             0.189555   \n",
       "...                                                 ...                  ...   \n",
       "2099  ['森贝儿', '家族', '摄影', '大赛', '  父亲节', '暑假', '趣味',...             0.251821   \n",
       "2100  ['厂房', '氨基酸', '洗面奶', '心中', '阳光', '粽叶', '清芬蕴', ...             0.185167   \n",
       "2101  ['能量', '青春', 'od胡', '一片风云', '    ', '失败', '插曲'...             0.188268   \n",
       "2102  ['2021超级红人节', '年度', '人气', '红人', '  ', '人气值', '...             0.208727   \n",
       "2103  ['锦鲤', '大奖', '一人', '小道', '阿道夫', '茶麸', '头发', '礼...             0.177570   \n",
       "\n",
       "      finance_interest_value  \n",
       "0                   0.149717  \n",
       "1                   0.051642  \n",
       "2                   0.121215  \n",
       "3                   0.110937  \n",
       "4                   0.198826  \n",
       "...                      ...  \n",
       "2099                0.246385  \n",
       "2100                0.064736  \n",
       "2101                0.051547  \n",
       "2102                0.312040  \n",
       "2103                0.130382  \n",
       "\n",
       "[2104 rows x 6 columns]"
      ]
     },
     "execution_count": 49,
     "metadata": {},
     "output_type": "execute_result"
    }
   ],
   "source": [
    "df"
   ]
  },
  {
   "cell_type": "markdown",
   "id": "b4950463",
   "metadata": {},
   "source": [
    "## 美食"
   ]
  },
  {
   "cell_type": "markdown",
   "id": "03c184ea",
   "metadata": {},
   "source": [
    "- 第一个用户对美食的兴趣值"
   ]
  },
  {
   "cell_type": "code",
   "execution_count": 50,
   "id": "57ab1709",
   "metadata": {},
   "outputs": [
    {
     "name": "stdout",
     "output_type": "stream",
     "text": [
      "[-0.037248913, 0.34843153, 0.48341244, 0.5150775, 0.0539833, 0.27132452, -0.10114895, 0.28612554, 0, 0.07235956, 0.023680476, 0.09383099, 0.11969902, 0, 0.1273765, -0.05279016, 0.18633981, 0.25194865, 0, -0.11614017, 0, 0.34427738, 0.30761454, 0.34588605, 0, 0, 0, 0.30805296, 0.1603323, -0.113211624, 0.38152295, 0.682342, 0.42824313, 0.30657822, 0, 0, 0.523445, 0.5125505, 0, 0.30657822, 0.42824313, 0.35045585, 0, 0.25472817, 0.09848145, 0, 0.52498937, 0.3778646, 0.25194865, 0.21816221, 0.020723566, 0, 0.21816221, 0.020723566, 0, 0, 0.32483238, 0.2196856, 0, 0.33295786, 0, 0.16518462, -0.13623922, 0, 0.08102085, 0.17967948, 0.11018389, 0.225473, 0.38152295, -0.037248913, 0.6166084, 0.6001492, 0.2979523, 0.20421681, 0.20934018, 0.42210647, 0.38152295, 0, 0.19943681, 0, 0, 0.2953914, 0.17150672, 0, 0.26135352, 0.25194865, 0, 0.35274678, 0.17150672, 0, 0.26019993, 0, 0.2953914, 0.17150672, 0, 0.26135352, 0, 0, 0, 0.17150672, 0.33518255, 0.33518255, 0, 0, 0, 0.2569679, 0.26276898, 0.16583912, 0, 0.35274678, 0, 0.25736386, 0.34524825, 0.24885643, 0.21909574, 0, 0.25194865, 0, 0.35274678, 0.32776228, 0, 0.42233068, 0, 0.42210647, 0.37038535, 0.49042487, 0.16583912, 0.13207936, 0.30159205, 0, 0.32755816, 0, 0, 0, 0.31434256, 0.1901932, 0, 0, 0, 0.41665918, 0.39370188, 0.46276718, 0, 0, 0, 0.11018389, 0.225473, 0.21412396, 0.4540766, 0, 0, 0.16583912, 0.3591287, 0.32061154, 0, 0.28608704, 0.16720048, 0.42824313, 0, 0, 0, 0.15926428, 0.15951975, 0.15951975, 0, 0, 0.4365044, 0.4494624, 0.5402865, 0.03557018, 0.25194865, 0, 0, 0.31894317, 0, 0, 0.5487978, 0, 0.25194865, 0, 0.5487978, 0, 0.30269283, 0.013451096, 0, 0, 0, 0.310488, 0, 0, 0.16583912, 0.3591287, 0.32061154, 0.42824313, 0, 0, 0, 0.2659246, 0, 0.15261677, 0.0128621925, 0.33518255, 0, 0, 0.20415159, 0.26000252, 0, 0.18279386]\n",
      "133\n",
      "0.26507490915351345\n"
     ]
    }
   ],
   "source": [
    "a = 0\n",
    "interest_score = []\n",
    "interest_related = 0\n",
    "for i in range(len(eval(df['content_select'][a]))):\n",
    "    try:\n",
    "        b = new_model.wv.similarity('美食',eval(df['content_select'][a])[i])\n",
    "        interest_score.append(b) \n",
    "        i += 1\n",
    "        interest_related += 1\n",
    "    except KeyError:\n",
    "        interest_score.append(0)\n",
    "print(interest_score)\n",
    "print(interest_related)\n",
    "if interest_related==0:\n",
    "    print(0)\n",
    "else:\n",
    "    print(np.sum(interest_score)/interest_related)"
   ]
  },
  {
   "cell_type": "code",
   "execution_count": 51,
   "id": "26b8cb73",
   "metadata": {},
   "outputs": [],
   "source": [
    "def interest_food_cal(x):\n",
    "    interest_score = []\n",
    "    interest_related = 0\n",
    "    for i in range(len(eval(x))):\n",
    "        try:\n",
    "            a = new_model.wv.similarity('美食',eval(x)[i])\n",
    "            interest_score.append(a)\n",
    "            i += 1\n",
    "            interest_related += 1\n",
    "        except KeyError:\n",
    "            interest_score.append(0)\n",
    "    if interest_related == 0:\n",
    "        return 0\n",
    "    else:\n",
    "        return np.sum(interest_score)/interest_related "
   ]
  },
  {
   "cell_type": "code",
   "execution_count": 52,
   "id": "a25f00c4",
   "metadata": {},
   "outputs": [
    {
     "name": "stdout",
     "output_type": "stream",
     "text": [
      "0       0.265075\n",
      "1       0.124246\n",
      "2       0.153040\n",
      "3       0.220049\n",
      "4       0.229286\n",
      "          ...   \n",
      "2099    0.414228\n",
      "2100    0.226899\n",
      "2101    0.217840\n",
      "2102    0.193186\n",
      "2103    0.187840\n",
      "Name: food_interest_value, Length: 2104, dtype: float64\n",
      "346.0733184814453\n"
     ]
    }
   ],
   "source": [
    "start_time = time.time()\n",
    "\n",
    "df['food_interest_value'] = df['content_select'].apply(lambda x:interest_food_cal(x))\n",
    "print(df['food_interest_value'])\n",
    "\n",
    "end_time = time.time()\n",
    "\n",
    "print(end_time-start_time)"
   ]
  },
  {
   "cell_type": "code",
   "execution_count": null,
   "id": "6f130153",
   "metadata": {},
   "outputs": [],
   "source": []
  },
  {
   "cell_type": "markdown",
   "id": "cd02e0e1",
   "metadata": {},
   "source": [
    "## 美妆 "
   ]
  },
  {
   "cell_type": "markdown",
   "id": "62e8affa",
   "metadata": {},
   "source": [
    "- 第一个用户对美妆的兴趣值"
   ]
  },
  {
   "cell_type": "code",
   "execution_count": 61,
   "id": "c9aa4cad",
   "metadata": {},
   "outputs": [
    {
     "name": "stdout",
     "output_type": "stream",
     "text": [
      "[0.09065591, 0.3913573, 0.47547036, 0.27318642, -0.113376185, 0.14996767, -0.030565105, 0.43744826, 0, 0.10663196, 0.008845286, 0.3370393, 0.00907577, 0, 0.18289858, 0.15536737, 0.11310084, 0.106753364, 0, 0.025954511, 0, 0.4204883, 0.15758187, 0.44742084, 0, 0, 0, 0.29160148, 0.020455465, -0.09259027, -0.00052799284, 0.5158577, 0.36500573, 0.25060555, 0, 0, 0.48524773, 0.47955272, 0, 0.25060555, 0.36500573, 0.48200348, 0, 0.48047525, -0.13647299, 0, 0.38932115, 0.42206424, 0.106753364, 0.416496, -0.1531115, 0, 0.416496, -0.1531115, 0, 0, 0.52747655, 0.20287368, 0, 0.40071607, 0, 0.10402126, 0.20453794, 0, 0.21275878, -0.055328123, 0.26660323, 0.30307674, -0.00052799284, 0.09065591, 0.5034344, 0.48300076, 0.17459138, 0.3909477, 0.019440643, 0.207745, -0.00052799284, 0, 0.43261653, 0, 0, 0.14136238, 0.38833964, 0, 0.439119, 0.106753364, 0, 0.1616075, 0.38833964, 0, 0.5349854, 0, 0.14136238, 0.38833964, 0, 0.439119, 0, 0, 0, 0.38833964, 0.3417668, 0.3417668, 0, 0, 0, 0.07669091, 0.18540864, 0.12356828, 0, 0.1616075, 0, 0.23193172, 0.4724067, 0.4391684, 0.19910768, 0, 0.106753364, 0, 0.1616075, 0.45916313, 0, 0.33609718, 0, 0.207745, 0.39757293, 0.22666559, 0.12356828, 0.001446344, 0.39440155, 0, 0.43046933, 0, 0, 0, 0.41819122, 0.45739794, 0, 0, 0, 0.32098034, 0.20572248, 0.5014563, 0, 0, 0, 0.26660323, 0.30307674, 0.40168017, 0.40341932, 0, 0, 0.12356828, 0.4582961, 0.29606134, 0, 0.34469151, 0.02594632, 0.36500573, 0, 0, 0, 0.12263052, 0.29955092, 0.29955092, 0, 0, 0.44259572, 0.45500672, 0.36125395, 0.10679185, 0.106753364, 0, 0, 0.33779615, 0, 0, 0.56208354, 0, 0.106753364, 0, 0.56208354, 0, 0.23180048, 0.21663557, 0, 0, 0, 0.54049766, 0, 0, 0.12356828, 0.4582961, 0.29606134, 0.36500573, 0, 0, 0, 0.3814589, 0, 0.047796667, -0.06614027, 0.3417668, 0, 0, 0.44262987, 0.29037046, 0, 0.31258214]\n",
      "133\n",
      "0.2630752374915252\n"
     ]
    }
   ],
   "source": [
    "a = 0\n",
    "interest_score = []\n",
    "interest_related = 0\n",
    "for i in range(len(eval(df['content_select'][a]))):\n",
    "    try:\n",
    "        b = new_model.wv.similarity('美妆',eval(df['content_select'][a])[i])\n",
    "        interest_score.append(b) \n",
    "        i += 1\n",
    "        interest_related += 1\n",
    "    except KeyError:\n",
    "        interest_score.append(0)\n",
    "print(interest_score)\n",
    "print(interest_related)\n",
    "if interest_related==0:\n",
    "    print(0)\n",
    "else:\n",
    "    print(np.sum(interest_score)/interest_related)"
   ]
  },
  {
   "cell_type": "code",
   "execution_count": 62,
   "id": "a5a45b3b",
   "metadata": {},
   "outputs": [],
   "source": [
    "def interest_makeup_cal(x):\n",
    "    interest_score = []\n",
    "    interest_related = 0\n",
    "    for i in range(len(eval(x))):\n",
    "        try:\n",
    "            a = new_model.wv.similarity('美妆',eval(x)[i])\n",
    "            interest_score.append(a)\n",
    "            i += 1\n",
    "            interest_related += 1\n",
    "        except KeyError:\n",
    "            interest_score.append(0)\n",
    "    if interest_related == 0:\n",
    "        return 0\n",
    "    else:\n",
    "        return np.sum(interest_score)/interest_related "
   ]
  },
  {
   "cell_type": "code",
   "execution_count": 63,
   "id": "8cf0cc0f",
   "metadata": {},
   "outputs": [
    {
     "name": "stdout",
     "output_type": "stream",
     "text": [
      "0       0.263075\n",
      "1       0.090846\n",
      "2       0.145057\n",
      "3       0.192981\n",
      "4       0.200069\n",
      "          ...   \n",
      "2099    0.323920\n",
      "2100    0.157672\n",
      "2101    0.133406\n",
      "2102    0.287827\n",
      "2103    0.233106\n",
      "Name: makeup_interest_value, Length: 2104, dtype: float64\n",
      "366.68179392814636\n"
     ]
    }
   ],
   "source": [
    "start_time = time.time()\n",
    "\n",
    "df['makeup_interest_value'] = df['content_select'].apply(lambda x:interest_makeup_cal(x))\n",
    "print(df['makeup_interest_value'])\n",
    "\n",
    "end_time = time.time()\n",
    "\n",
    "print(end_time-start_time)"
   ]
  },
  {
   "cell_type": "code",
   "execution_count": 69,
   "id": "8c44d4f6",
   "metadata": {},
   "outputs": [
    {
     "data": {
      "text/plain": [
       "0       0.263075\n",
       "1       0.090846\n",
       "2       0.145057\n",
       "3       0.192981\n",
       "4       0.200069\n",
       "          ...   \n",
       "2099    0.323920\n",
       "2100    0.157672\n",
       "2101    0.133406\n",
       "2102    0.287827\n",
       "2103    0.233106\n",
       "Name: makeup_interest_value, Length: 2104, dtype: float64"
      ]
     },
     "execution_count": 69,
     "metadata": {},
     "output_type": "execute_result"
    }
   ],
   "source": [
    "df['makeup_interest_value']"
   ]
  },
  {
   "cell_type": "markdown",
   "id": "893a7e6a",
   "metadata": {},
   "source": [
    "## 抽奖"
   ]
  },
  {
   "cell_type": "markdown",
   "id": "63c38533",
   "metadata": {},
   "source": [
    "- 第一个用户对抽奖的兴趣值"
   ]
  },
  {
   "cell_type": "code",
   "execution_count": 56,
   "id": "dca8a978",
   "metadata": {},
   "outputs": [
    {
     "name": "stdout",
     "output_type": "stream",
     "text": [
      "[0.13942152, 0.14175148, 0.07318558, -0.03677049, -0.11133488, -0.12793607, 0.0028691627, 0.2109503, 0, 0.07467247, -0.012641376, -0.017312497, -0.08624266, 0, -0.1650871, 0.046825975, 0.058769412, 0.059396345, 0, 0.1825382, 0, 0.21214543, 0.4692357, 0.11350982, 0, 0, 0, 0.068147674, 0.15809664, -0.052749522, 0.14086019, 0.20515129, 0.26392415, 0.027666923, 0, 0, 0.27451235, 0.22031909, 0, 0.027666923, 0.26392415, 0.29855713, 0, 0.22723784, -0.06075943, 0, -0.0113318935, 0.032772586, 0.059396345, -0.06105257, -0.015886812, 0, -0.06105257, -0.015886812, 0, 0, 0.39311475, 0.0028547533, 0, 0.0686301, 0, 0.11446429, 0.09599066, 0, 0.19135493, -0.006383173, 0.3082255, 0.204722, 0.14086019, 0.13942152, 0.32574606, 0.14663818, 0.1329481, 0.20163697, 0.014684785, -0.029814992, 0.14086019, 0, 0.14977868, 0, 0, 0.20910762, 0.19745094, 0, 0.2873115, 0.059396345, 0, 0.2934258, 0.19745094, 0, 0.26084358, 0, 0.20910762, 0.19745094, 0, 0.2873115, 0, 0, 0, 0.19745094, 0.10542607, 0.10542607, 0, 0, 0, -0.10860373, -0.15829298, 0.14098752, 0, 0.2934258, 0, 0.24366897, 0.6887005, 0.03373291, 0.061140478, 0, 0.059396345, 0, 0.2934258, 0.48960385, 0, -0.19064173, 0, -0.029814992, 0.18845765, 0.1426213, 0.14098752, -0.049291693, -0.014581643, 0, 0.42403668, 0, 0, 0, 0.19387919, 0.16492125, 0, 0, 0, -0.021070186, 0.21801388, 0.29334104, 0, 0, 0, 0.3082255, 0.204722, 0.09035958, 0.21730778, 0, 0, 0.14098752, 0.10959357, 0.12628058, 0, 0.12774897, 0.054307602, 0.26392415, 0, 0, 0, 0.16406514, 0.07764812, 0.07764812, 0, 0, 0.25404763, 0.20832239, 0.08203114, 0.05077137, 0.059396345, 0, 0, 0.14889346, 0, 0, 0.22229984, 0, 0.059396345, 0, 0.22229984, 0, 0.4329443, 0.11299455, 0, 0, 0, 0.26265788, 0, 0, 0.14098752, 0.10959357, 0.12628058, 0.26392415, 0, 0, 0, 0.007299766, 0, 0.1640567, 0.115162835, 0.10542607, 0, 0, 0.21685378, 0.22799927, 0, -0.0028482005]\n",
      "133\n",
      "0.13242110387331113\n"
     ]
    }
   ],
   "source": [
    "a = 0\n",
    "interest_score = []\n",
    "interest_related = 0\n",
    "for i in range(len(eval(df['content_select'][a]))):\n",
    "    try:\n",
    "        b = new_model.wv.similarity('抽奖',eval(df['content_select'][a])[i])\n",
    "        interest_score.append(b) \n",
    "        i += 1\n",
    "        interest_related += 1\n",
    "    except KeyError:\n",
    "        interest_score.append(0)\n",
    "print(interest_score)\n",
    "print(interest_related)\n",
    "if interest_related==0:\n",
    "    print(0)\n",
    "else:\n",
    "    print(np.sum(interest_score)/interest_related)"
   ]
  },
  {
   "cell_type": "code",
   "execution_count": 57,
   "id": "ff25ffca",
   "metadata": {},
   "outputs": [],
   "source": [
    "def interest_draw_cal(x):\n",
    "    interest_score = []\n",
    "    interest_related = 0\n",
    "    for i in range(len(eval(x))):\n",
    "        try:\n",
    "            a = new_model.wv.similarity('抽奖',eval(x)[i])\n",
    "            interest_score.append(a)\n",
    "            i += 1\n",
    "            interest_related += 1\n",
    "        except KeyError:\n",
    "            interest_score.append(0)\n",
    "    if interest_related == 0:\n",
    "        return 0\n",
    "    else:\n",
    "        return np.sum(interest_score)/interest_related "
   ]
  },
  {
   "cell_type": "code",
   "execution_count": 59,
   "id": "2e053701",
   "metadata": {},
   "outputs": [
    {
     "name": "stdout",
     "output_type": "stream",
     "text": [
      "0       0.132421\n",
      "1       0.116576\n",
      "2       0.052127\n",
      "3       0.105388\n",
      "4       0.060380\n",
      "          ...   \n",
      "2099    0.173123\n",
      "2100    0.030267\n",
      "2101    0.007282\n",
      "2102    0.258912\n",
      "2103    0.190224\n",
      "Name: draw_interest_value, Length: 2104, dtype: float64\n",
      "294.77425384521484\n"
     ]
    }
   ],
   "source": [
    "start_time = time.time()\n",
    "\n",
    "df['draw_interest_value'] = df['content_select'].apply(lambda x:interest_draw_cal(x))\n",
    "print(df['draw_interest_value'])\n",
    "\n",
    "end_time = time.time()\n",
    "\n",
    "print(end_time-start_time)"
   ]
  },
  {
   "cell_type": "code",
   "execution_count": 67,
   "id": "ae02f875",
   "metadata": {},
   "outputs": [
    {
     "data": {
      "text/html": [
       "<div>\n",
       "<style scoped>\n",
       "    .dataframe tbody tr th:only-of-type {\n",
       "        vertical-align: middle;\n",
       "    }\n",
       "\n",
       "    .dataframe tbody tr th {\n",
       "        vertical-align: top;\n",
       "    }\n",
       "\n",
       "    .dataframe thead th {\n",
       "        text-align: right;\n",
       "    }\n",
       "</style>\n",
       "<table border=\"1\" class=\"dataframe\">\n",
       "  <thead>\n",
       "    <tr style=\"text-align: right;\">\n",
       "      <th></th>\n",
       "      <th>Unnamed: 0</th>\n",
       "      <th>user_id</th>\n",
       "      <th>content_seq</th>\n",
       "      <th>content_select</th>\n",
       "      <th>game_interest_value</th>\n",
       "      <th>finance_interest_value</th>\n",
       "      <th>food_interest_value</th>\n",
       "      <th>makeup_interest_value</th>\n",
       "      <th>draw_interest_value</th>\n",
       "      <th>video_interest_value</th>\n",
       "    </tr>\n",
       "  </thead>\n",
       "  <tbody>\n",
       "    <tr>\n",
       "      <th>0</th>\n",
       "      <td>0</td>\n",
       "      <td>1005479541</td>\n",
       "      <td>['漂亮', '行车', '常喝', '纯粮', '清香', '荣耀', '味道', '  ...</td>\n",
       "      <td>['行车', '纯粮', '清香', '味道', '英格兰', '足球', '未成年', '...</td>\n",
       "      <td>0.205823</td>\n",
       "      <td>0.036036</td>\n",
       "      <td>0.265075</td>\n",
       "      <td>0.263075</td>\n",
       "      <td>0.132421</td>\n",
       "      <td>0.149717</td>\n",
       "    </tr>\n",
       "    <tr>\n",
       "      <th>1</th>\n",
       "      <td>1</td>\n",
       "      <td>1020397963</td>\n",
       "      <td>['      薇娅直播间 ', '奖金', '升至', '13000元', '支付宝', ...</td>\n",
       "      <td>['奖金', '支付宝', '机动车', '野生动物', '道德', '动物', '野生动物']</td>\n",
       "      <td>0.121915</td>\n",
       "      <td>0.030911</td>\n",
       "      <td>0.124246</td>\n",
       "      <td>0.090846</td>\n",
       "      <td>0.116576</td>\n",
       "      <td>0.051642</td>\n",
       "    </tr>\n",
       "    <tr>\n",
       "      <th>2</th>\n",
       "      <td>3</td>\n",
       "      <td>1044951575</td>\n",
       "      <td>['力挺', '拿破仑', '苏菲的世界 哈姆雷特 平凡的世界', '力挺', '力挺', ...</td>\n",
       "      <td>['拿破仑', '朋克', '养生', '联盟', '英格兰', '英格兰', 'Hi欧洲杯...</td>\n",
       "      <td>0.133061</td>\n",
       "      <td>0.045991</td>\n",
       "      <td>0.153040</td>\n",
       "      <td>0.145057</td>\n",
       "      <td>0.052127</td>\n",
       "      <td>0.121215</td>\n",
       "    </tr>\n",
       "    <tr>\n",
       "      <th>3</th>\n",
       "      <td>4</td>\n",
       "      <td>1098316774</td>\n",
       "      <td>['重男轻女', '还算', '理解', '为啥', '干货', '实用', '真好看', ...</td>\n",
       "      <td>['重男轻女', '干货', '同事', '胃口', '小红书', '薯片', '谷物', ...</td>\n",
       "      <td>0.150025</td>\n",
       "      <td>0.010680</td>\n",
       "      <td>0.220049</td>\n",
       "      <td>0.192981</td>\n",
       "      <td>0.105388</td>\n",
       "      <td>0.110937</td>\n",
       "    </tr>\n",
       "    <tr>\n",
       "      <th>4</th>\n",
       "      <td>5</td>\n",
       "      <td>1106310547</td>\n",
       "      <td>['long time no 转🍣 ', '1000', '水果金  ', '杯子', '这...</td>\n",
       "      <td>['水果金  ', '杯子', '演唱会', '三石', '弟弟', '男友力', '女主们...</td>\n",
       "      <td>0.189555</td>\n",
       "      <td>0.037727</td>\n",
       "      <td>0.229286</td>\n",
       "      <td>0.200069</td>\n",
       "      <td>0.060380</td>\n",
       "      <td>0.198826</td>\n",
       "    </tr>\n",
       "    <tr>\n",
       "      <th>...</th>\n",
       "      <td>...</td>\n",
       "      <td>...</td>\n",
       "      <td>...</td>\n",
       "      <td>...</td>\n",
       "      <td>...</td>\n",
       "      <td>...</td>\n",
       "      <td>...</td>\n",
       "      <td>...</td>\n",
       "      <td>...</td>\n",
       "      <td>...</td>\n",
       "    </tr>\n",
       "    <tr>\n",
       "      <th>2099</th>\n",
       "      <td>2161</td>\n",
       "      <td>7625520024</td>\n",
       "      <td>['森贝儿', '家族', '35周年', '摄影', '大赛', '  父亲节', '暑假...</td>\n",
       "      <td>['森贝儿', '家族', '摄影', '大赛', '  父亲节', '暑假', '趣味',...</td>\n",
       "      <td>0.251821</td>\n",
       "      <td>0.026099</td>\n",
       "      <td>0.414228</td>\n",
       "      <td>0.323920</td>\n",
       "      <td>0.173123</td>\n",
       "      <td>0.246385</td>\n",
       "    </tr>\n",
       "    <tr>\n",
       "      <th>2100</th>\n",
       "      <td>2162</td>\n",
       "      <td>7626713402</td>\n",
       "      <td>['厂房', '高级', '高级', '氨基酸', '洗面奶', '心中', '充满', '...</td>\n",
       "      <td>['厂房', '氨基酸', '洗面奶', '心中', '阳光', '粽叶', '清芬蕴', ...</td>\n",
       "      <td>0.185167</td>\n",
       "      <td>-0.051887</td>\n",
       "      <td>0.226899</td>\n",
       "      <td>0.157672</td>\n",
       "      <td>0.030267</td>\n",
       "      <td>0.064736</td>\n",
       "    </tr>\n",
       "    <tr>\n",
       "      <th>2101</th>\n",
       "      <td>2163</td>\n",
       "      <td>7642494018</td>\n",
       "      <td>['能量', '站胡', '青春', 'od胡', '一片风云', '    ', '失败'...</td>\n",
       "      <td>['能量', '青春', 'od胡', '一片风云', '    ', '失败', '插曲'...</td>\n",
       "      <td>0.188268</td>\n",
       "      <td>-0.087033</td>\n",
       "      <td>0.217840</td>\n",
       "      <td>0.133406</td>\n",
       "      <td>0.007282</td>\n",
       "      <td>0.051547</td>\n",
       "    </tr>\n",
       "    <tr>\n",
       "      <th>2102</th>\n",
       "      <td>2164</td>\n",
       "      <td>7644833370</td>\n",
       "      <td>['2021超级红人节', '年度', '人气', '红人', '评选', '进行时', '...</td>\n",
       "      <td>['2021超级红人节', '年度', '人气', '红人', '  ', '人气值', '...</td>\n",
       "      <td>0.208727</td>\n",
       "      <td>0.124483</td>\n",
       "      <td>0.193186</td>\n",
       "      <td>0.287827</td>\n",
       "      <td>0.258912</td>\n",
       "      <td>0.312040</td>\n",
       "    </tr>\n",
       "    <tr>\n",
       "      <th>2103</th>\n",
       "      <td>2165</td>\n",
       "      <td>7645518897</td>\n",
       "      <td>['9周年', '锦鲤', '大奖', '一人', '小道', '阿道夫', '茶麸', '...</td>\n",
       "      <td>['锦鲤', '大奖', '一人', '小道', '阿道夫', '茶麸', '头发', '礼...</td>\n",
       "      <td>0.177570</td>\n",
       "      <td>-0.008579</td>\n",
       "      <td>0.187840</td>\n",
       "      <td>0.233106</td>\n",
       "      <td>0.190224</td>\n",
       "      <td>0.130382</td>\n",
       "    </tr>\n",
       "  </tbody>\n",
       "</table>\n",
       "<p>2104 rows × 10 columns</p>\n",
       "</div>"
      ],
      "text/plain": [
       "      Unnamed: 0     user_id  \\\n",
       "0              0  1005479541   \n",
       "1              1  1020397963   \n",
       "2              3  1044951575   \n",
       "3              4  1098316774   \n",
       "4              5  1106310547   \n",
       "...          ...         ...   \n",
       "2099        2161  7625520024   \n",
       "2100        2162  7626713402   \n",
       "2101        2163  7642494018   \n",
       "2102        2164  7644833370   \n",
       "2103        2165  7645518897   \n",
       "\n",
       "                                            content_seq  \\\n",
       "0     ['漂亮', '行车', '常喝', '纯粮', '清香', '荣耀', '味道', '  ...   \n",
       "1     ['      薇娅直播间 ', '奖金', '升至', '13000元', '支付宝', ...   \n",
       "2     ['力挺', '拿破仑', '苏菲的世界 哈姆雷特 平凡的世界', '力挺', '力挺', ...   \n",
       "3     ['重男轻女', '还算', '理解', '为啥', '干货', '实用', '真好看', ...   \n",
       "4     ['long time no 转🍣 ', '1000', '水果金  ', '杯子', '这...   \n",
       "...                                                 ...   \n",
       "2099  ['森贝儿', '家族', '35周年', '摄影', '大赛', '  父亲节', '暑假...   \n",
       "2100  ['厂房', '高级', '高级', '氨基酸', '洗面奶', '心中', '充满', '...   \n",
       "2101  ['能量', '站胡', '青春', 'od胡', '一片风云', '    ', '失败'...   \n",
       "2102  ['2021超级红人节', '年度', '人气', '红人', '评选', '进行时', '...   \n",
       "2103  ['9周年', '锦鲤', '大奖', '一人', '小道', '阿道夫', '茶麸', '...   \n",
       "\n",
       "                                         content_select  game_interest_value  \\\n",
       "0     ['行车', '纯粮', '清香', '味道', '英格兰', '足球', '未成年', '...             0.205823   \n",
       "1      ['奖金', '支付宝', '机动车', '野生动物', '道德', '动物', '野生动物']             0.121915   \n",
       "2     ['拿破仑', '朋克', '养生', '联盟', '英格兰', '英格兰', 'Hi欧洲杯...             0.133061   \n",
       "3     ['重男轻女', '干货', '同事', '胃口', '小红书', '薯片', '谷物', ...             0.150025   \n",
       "4     ['水果金  ', '杯子', '演唱会', '三石', '弟弟', '男友力', '女主们...             0.189555   \n",
       "...                                                 ...                  ...   \n",
       "2099  ['森贝儿', '家族', '摄影', '大赛', '  父亲节', '暑假', '趣味',...             0.251821   \n",
       "2100  ['厂房', '氨基酸', '洗面奶', '心中', '阳光', '粽叶', '清芬蕴', ...             0.185167   \n",
       "2101  ['能量', '青春', 'od胡', '一片风云', '    ', '失败', '插曲'...             0.188268   \n",
       "2102  ['2021超级红人节', '年度', '人气', '红人', '  ', '人气值', '...             0.208727   \n",
       "2103  ['锦鲤', '大奖', '一人', '小道', '阿道夫', '茶麸', '头发', '礼...             0.177570   \n",
       "\n",
       "      finance_interest_value  food_interest_value  makeup_interest_value  \\\n",
       "0                   0.036036             0.265075               0.263075   \n",
       "1                   0.030911             0.124246               0.090846   \n",
       "2                   0.045991             0.153040               0.145057   \n",
       "3                   0.010680             0.220049               0.192981   \n",
       "4                   0.037727             0.229286               0.200069   \n",
       "...                      ...                  ...                    ...   \n",
       "2099                0.026099             0.414228               0.323920   \n",
       "2100               -0.051887             0.226899               0.157672   \n",
       "2101               -0.087033             0.217840               0.133406   \n",
       "2102                0.124483             0.193186               0.287827   \n",
       "2103               -0.008579             0.187840               0.233106   \n",
       "\n",
       "      draw_interest_value  video_interest_value  \n",
       "0                0.132421              0.149717  \n",
       "1                0.116576              0.051642  \n",
       "2                0.052127              0.121215  \n",
       "3                0.105388              0.110937  \n",
       "4                0.060380              0.198826  \n",
       "...                   ...                   ...  \n",
       "2099             0.173123              0.246385  \n",
       "2100             0.030267              0.064736  \n",
       "2101             0.007282              0.051547  \n",
       "2102             0.258912              0.312040  \n",
       "2103             0.190224              0.130382  \n",
       "\n",
       "[2104 rows x 10 columns]"
      ]
     },
     "execution_count": 67,
     "metadata": {},
     "output_type": "execute_result"
    }
   ],
   "source": [
    "df"
   ]
  },
  {
   "cell_type": "code",
   "execution_count": 68,
   "id": "17e908b9",
   "metadata": {},
   "outputs": [],
   "source": [
    "df.to_csv('用户兴趣值.csv')"
   ]
  },
  {
   "cell_type": "code",
   "execution_count": null,
   "id": "1993c07e",
   "metadata": {},
   "outputs": [],
   "source": []
  }
 ],
 "metadata": {
  "kernelspec": {
   "display_name": "nlp",
   "language": "python",
   "name": "nlp"
  },
  "language_info": {
   "codemirror_mode": {
    "name": "ipython",
    "version": 3
   },
   "file_extension": ".py",
   "mimetype": "text/x-python",
   "name": "python",
   "nbconvert_exporter": "python",
   "pygments_lexer": "ipython3",
   "version": "3.8.10"
  }
 },
 "nbformat": 4,
 "nbformat_minor": 5
}
