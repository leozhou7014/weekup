{
 "cells": [
  {
   "cell_type": "markdown",
   "id": "238811f2",
   "metadata": {},
   "source": [
    "字符串前加u 后面字符串以 Unicode格式进行编码，一般用在中文字符串前面，防止因为源码储存格式问题，导致再次使用时出现乱码。 \n",
    "字符串前加r 去掉反斜杠的转义机制。"
   ]
  },
  {
   "cell_type": "markdown",
   "id": "b647fba3",
   "metadata": {},
   "source": [
    "列表是一次性生成在内存中，而迭代器是需要使用时一点一点生成出来的，内存使用更优。"
   ]
  },
  {
   "cell_type": "code",
   "execution_count": null,
   "id": "4731097b",
   "metadata": {},
   "outputs": [],
   "source": []
  }
 ],
 "metadata": {
  "kernelspec": {
   "display_name": "nlp",
   "language": "python",
   "name": "nlp"
  },
  "language_info": {
   "codemirror_mode": {
    "name": "ipython",
    "version": 3
   },
   "file_extension": ".py",
   "mimetype": "text/x-python",
   "name": "python",
   "nbconvert_exporter": "python",
   "pygments_lexer": "ipython3",
   "version": "3.8.10"
  }
 },
 "nbformat": 4,
 "nbformat_minor": 5
}
