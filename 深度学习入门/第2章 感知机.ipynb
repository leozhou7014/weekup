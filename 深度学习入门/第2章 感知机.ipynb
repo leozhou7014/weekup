{
 "cells": [
  {
   "cell_type": "markdown",
   "id": "dental-coverage",
   "metadata": {},
   "source": [
    "# 第2章 感知机 "
   ]
  },
  {
   "cell_type": "markdown",
   "id": "declared-reduction",
   "metadata": {},
   "source": [
    "感知机接受多个输入信号，输出一个信号，这里的信号只有（1/0）两种取值，0对应不传递信号，1对应传递信号。\n",
    "\n",
    "本章中的感知机应称为“人工神经元”或者“朴素感知机”"
   ]
  },
  {
   "cell_type": "markdown",
   "id": "compliant-weekly",
   "metadata": {},
   "source": [
    "$\n",
    "y=\\left\\{\\begin{array}{ll}\n",
    "0 & \\text{ $\\omega_1x_1+\\omega_2x_2 \\le \\theta$ } \\\\\n",
    "1 & \\text{ $\\omega_2x_2+\\omega_2x_2 > \\theta$ }\n",
    "\\end{array}\\right.\n",
    "$"
   ]
  },
  {
   "cell_type": "markdown",
   "id": "egyptian-drunk",
   "metadata": {},
   "source": [
    "## 2.3感知机的实现 "
   ]
  },
  {
   "cell_type": "markdown",
   "id": "casual-grant",
   "metadata": {},
   "source": [
    "把$\\theta$换成-b，用下式表示感知机的行为：\n",
    "$\n",
    "y=\\left\\{\\begin{array}{ll}\n",
    "0 & \\text{ $b+\\omega_1x_1+\\omega_2x_2 \\le 0$ } \\\\\n",
    "1 & \\text{ $b+\\omega_2x_2+\\omega_2x_2 > 0$ }\n",
    "\\end{array}\\right.\n",
    "$\n",
    "\n",
    "此处，b称为偏置，用于控制神经元被激活的难易程度，$\\omega_1$和$\\omega_2$称为权重"
   ]
  },
  {
   "cell_type": "markdown",
   "id": "resistant-medicine",
   "metadata": {},
   "source": [
    "### 与门 "
   ]
  },
  {
   "cell_type": "code",
   "execution_count": 2,
   "id": "latter-broadcast",
   "metadata": {},
   "outputs": [],
   "source": [
    "def AND(x1,x2):\n",
    "    w1,w2,theta = 0.5,0.5,0.7\n",
    "    tmp = x1*w1 + x2*w2\n",
    "    if tmp <= theta:\n",
    "        return 0\n",
    "    elif tmp> theta:\n",
    "        return 1"
   ]
  },
  {
   "cell_type": "code",
   "execution_count": 6,
   "id": "acquired-wisdom",
   "metadata": {},
   "outputs": [
    {
     "name": "stdout",
     "output_type": "stream",
     "text": [
      "AND(0,0):0 \n",
      "AND(0,1):0 \n",
      "AND(1,0):0 \n",
      "AND(1,1):1 \n"
     ]
    }
   ],
   "source": [
    "print(f'AND(0,0):{AND(0,0)} \\nAND(0,1):{AND(0,1)} \\nAND(1,0):{AND(1,0)} \\nAND(1,1):{AND(1,1)} ')"
   ]
  },
  {
   "cell_type": "code",
   "execution_count": 8,
   "id": "resident-agent",
   "metadata": {},
   "outputs": [
    {
     "name": "stdout",
     "output_type": "stream",
     "text": [
      "AND(0,0):0 \n",
      "AND(0,1):0 \n",
      "AND(1,0):0 \n",
      "AND(1,1):1 \n"
     ]
    }
   ],
   "source": [
    "#使用numpy数组的实现\n",
    "def AND(x1,x2):\n",
    "    x = np.array([x1,x2])\n",
    "    w = np.array([0.5,0.5])\n",
    "    b = -0.7\n",
    "    tmp = np.sum(w*x) + b\n",
    "    if tmp <=0:\n",
    "        return 0\n",
    "    else:\n",
    "        return 1\n",
    "print(f'AND(0,0):{AND(0,0)} \\nAND(0,1):{AND(0,1)} \\nAND(1,0):{AND(1,0)} \\nAND(1,1):{AND(1,1)} ')"
   ]
  },
  {
   "cell_type": "markdown",
   "id": "searching-roberts",
   "metadata": {},
   "source": [
    "### 与非门  "
   ]
  },
  {
   "cell_type": "markdown",
   "id": "generic-recorder",
   "metadata": {},
   "source": [
    "与非门就是颠倒了与门的输出，x1和x2都为1时输出0，其他情况输出1"
   ]
  },
  {
   "cell_type": "code",
   "execution_count": 10,
   "id": "humanitarian-disco",
   "metadata": {},
   "outputs": [
    {
     "name": "stdout",
     "output_type": "stream",
     "text": [
      "NAND(0,0):1 \n",
      "NAND(0,1):1 \n",
      "NAND(1,0):1 \n",
      "NAND(1,1):0 \n"
     ]
    }
   ],
   "source": [
    "##使用numpy数组的实现\n",
    "def NAND(x1,x2):\n",
    "    x = np.array([x1,x2])\n",
    "    w = np.array([-0.5,-0.5])\n",
    "    b = 0.7\n",
    "    tmp = np.sum(w*x) + b\n",
    "    if tmp <=0:\n",
    "        return 0\n",
    "    else:\n",
    "        return 1\n",
    "print(f'NAND(0,0):{NAND(0,0)} \\nNAND(0,1):{NAND(0,1)} \\nNAND(1,0):{NAND(1,0)} \\nNAND(1,1):{NAND(1,1)} ')"
   ]
  },
  {
   "cell_type": "markdown",
   "id": "white-exception",
   "metadata": {},
   "source": [
    "### 或门  "
   ]
  },
  {
   "cell_type": "code",
   "execution_count": 11,
   "id": "young-reward",
   "metadata": {},
   "outputs": [
    {
     "name": "stdout",
     "output_type": "stream",
     "text": [
      "OR(0,0):0 \n",
      "OR(0,1):1 \n",
      "OR(1,0):1 \n",
      "OR(1,1):1 \n"
     ]
    }
   ],
   "source": [
    "##使用numpy数组的实现\n",
    "def OR(x1,x2):\n",
    "    x = np.array([x1,x2])\n",
    "    w = np.array([0.5,0.5])\n",
    "    b = -0.2\n",
    "    tmp = np.sum(w*x) + b\n",
    "    if tmp <=0:\n",
    "        return 0\n",
    "    else:\n",
    "        return 1\n",
    "print(f'OR(0,0):{OR(0,0)} \\nOR(0,1):{OR(0,1)} \\nOR(1,0):{OR(1,0)} \\nOR(1,1):{OR(1,1)} ')"
   ]
  },
  {
   "cell_type": "markdown",
   "id": "emotional-situation",
   "metadata": {},
   "source": [
    "### 异或门 "
   ]
  },
  {
   "cell_type": "markdown",
   "id": "floating-class",
   "metadata": {},
   "source": [
    "仅当x1或者x2中的一方为1时，才会输出1（XOR gate）\n",
    "\n",
    "使用前面介绍地单层感知机无法实现这个异或门"
   ]
  },
  {
   "cell_type": "markdown",
   "id": "worst-earth",
   "metadata": {},
   "source": [
    "**单层感知机的局限性：单层感知机无法表示异或门 单层感知机无法分离非线性空间**"
   ]
  },
  {
   "cell_type": "code",
   "execution_count": 12,
   "id": "restricted-portland",
   "metadata": {},
   "outputs": [
    {
     "name": "stdout",
     "output_type": "stream",
     "text": [
      "XOR(0,0):1 \n",
      "XOR(0,1):0 \n",
      "XOR(1,0):0 \n",
      "XOR(1,1):1 \n"
     ]
    }
   ],
   "source": [
    "# 使用前面定义的AND函数，NAND函数、OR函数 可以轻松实现XOR\n",
    "def XOR(x1,x2):\n",
    "    s1 = NAND(x1,x2)\n",
    "    s2 = OR(x1,x2)\n",
    "    y = AND(s1,s2)\n",
    "    return y\n",
    "print(f'XOR(0,0):{XOR(0,0)} \\nXOR(0,1):{XOR(0,1)} \\nXOR(1,0):{XOR(1,0)} \\nXOR(1,1):{XOR(1,1)} ')"
   ]
  },
  {
   "cell_type": "markdown",
   "id": "piano-crossing",
   "metadata": {},
   "source": [
    "异或门是多层感知机，叠加了多层的感知机称为多层感知机\n",
    "\n",
    "多层感知机可以进行复杂的表示，甚至可以构建计算机"
   ]
  }
 ],
 "metadata": {
  "kernelspec": {
   "display_name": "Python 3",
   "language": "python",
   "name": "python3"
  },
  "language_info": {
   "codemirror_mode": {
    "name": "ipython",
    "version": 3
   },
   "file_extension": ".py",
   "mimetype": "text/x-python",
   "name": "python",
   "nbconvert_exporter": "python",
   "pygments_lexer": "ipython3",
   "version": "3.7.6"
  }
 },
 "nbformat": 4,
 "nbformat_minor": 5
}
