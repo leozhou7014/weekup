{
 "cells": [
  {
   "cell_type": "markdown",
   "id": "eastern-bearing",
   "metadata": {},
   "source": [
    "# 第3章 神经网络 "
   ]
  },
  {
   "cell_type": "markdown",
   "id": "beneficial-sigma",
   "metadata": {},
   "source": [
    "## 3.1 从感知机到神经网络 "
   ]
  },
  {
   "cell_type": "markdown",
   "id": "roman-chick",
   "metadata": {},
   "source": [
    "神经网络包含输入层、中间层和输出层。中间层有时也称为隐藏层。\n",
    "\n",
    "“朴素感知机”指单层网络，指的是激活函数使用了阶跃函数的模型；“多层感知机”是指神经网络，即使用了sigmoid函数等平滑的激活函数的多层网络。"
   ]
  },
  {
   "cell_type": "markdown",
   "id": "reserved-merit",
   "metadata": {},
   "source": [
    "## 3.2 激活函数 "
   ]
  },
  {
   "cell_type": "markdown",
   "id": "wound-cassette",
   "metadata": {},
   "source": [
    "- 阶跃函数\n",
    "\n",
    "阶跃函数以阈值为界，一旦超过阈值，就切换输出"
   ]
  },
  {
   "cell_type": "code",
   "execution_count": 1,
   "id": "future-superior",
   "metadata": {},
   "outputs": [
    {
     "data": {
      "text/plain": [
       "array([0, 1, 1])"
      ]
     },
     "execution_count": 1,
     "metadata": {},
     "output_type": "execute_result"
    }
   ],
   "source": [
    "# 支持ndarray的阶跃函数的实现\n",
    "import numpy as np\n",
    "def step_function(x):\n",
    "    y = x >0\n",
    "    return y.astype(np.int)          #将布尔值数组转换为整数\n",
    "x = np.array([-1.0,1.0,2.0])\n",
    "step_function(x)\n"
   ]
  },
  {
   "cell_type": "code",
   "execution_count": 2,
   "id": "anonymous-rough",
   "metadata": {},
   "outputs": [
    {
     "data": {
      "text/plain": [
       "array([False,  True,  True])"
      ]
     },
     "execution_count": 2,
     "metadata": {},
     "output_type": "execute_result"
    }
   ],
   "source": [
    "y = x > 0\n",
    "y"
   ]
  },
  {
   "cell_type": "code",
   "execution_count": 3,
   "id": "digital-postage",
   "metadata": {},
   "outputs": [
    {
     "data": {
      "image/png": "[encoded data removed]",
      "text/plain": [
       "<Figure size 432x288 with 1 Axes>"
      ]
     },
     "metadata": {
      "needs_background": "light"
     },
     "output_type": "display_data"
    }
   ],
   "source": [
    "# 阶跃函数的图形\n",
    "import matplotlib.pylab as plt\n",
    "\n",
    "def step_funcion(x):\n",
    "    return np.array(x > 0, dtype = np.int)\n",
    "\n",
    "x = np.arange(-5.0,5.0,0.1)\n",
    "y = step_function(x)\n",
    "plt.plot(x,y)\n",
    "plt.ylim(-0.1,1.1)\n",
    "plt.show()"
   ]
  },
  {
   "cell_type": "markdown",
   "id": "junior-billion",
   "metadata": {},
   "source": [
    "- sigmoid函数"
   ]
  },
  {
   "cell_type": "markdown",
   "id": "specified-pepper",
   "metadata": {},
   "source": [
    "$ h(x)= \\frac{1}{1+exp(-x)} $"
   ]
  },
  {
   "cell_type": "code",
   "execution_count": 4,
   "id": "eight-syndicate",
   "metadata": {},
   "outputs": [],
   "source": [
    "def sigmoid(x):\n",
    "    return 1/(1 + np.exp(-x))"
   ]
  },
  {
   "cell_type": "code",
   "execution_count": 5,
   "id": "romantic-despite",
   "metadata": {},
   "outputs": [
    {
     "data": {
      "text/plain": [
       "array([0.26894142, 0.73105858, 0.88079708])"
      ]
     },
     "execution_count": 5,
     "metadata": {},
     "output_type": "execute_result"
    }
   ],
   "source": [
    "x = np.array([-1.0,1.0,2.0])\n",
    "sigmoid(x)"
   ]
  },
  {
   "cell_type": "code",
   "execution_count": 6,
   "id": "ordinary-chase",
   "metadata": {},
   "outputs": [
    {
     "data": {
      "image/png": "[encoded data removed]",
      "text/plain": [
       "<Figure size 432x288 with 1 Axes>"
      ]
     },
     "metadata": {
      "needs_background": "light"
     },
     "output_type": "display_data"
    }
   ],
   "source": [
    "# 绘制sigmoid函数\n",
    "import numpy as np\n",
    "import matplotlib.pyplot as plt\n",
    "def sigmoid(x):\n",
    "    return 1.0/(1+np.exp(-x))\n",
    "\n",
    "sigmoid_inputs = np.arange(-10,10)\n",
    "sigmoid_outputs = sigmoid(sigmoid_inputs)\n",
    "\n",
    "plt.plot(sigmoid_inputs,sigmoid_outputs)\n",
    "plt.xlabel(\"Sigmoid Inputs\")\n",
    "plt.ylabel(\"Sigmoid Outputs\")\n",
    "plt.show()"
   ]
  },
  {
   "cell_type": "markdown",
   "id": "eastern-median",
   "metadata": {},
   "source": [
    "阶跃函数与sigmoid的函数的对比：\n",
    "\n",
    "- sigmoid函数是一条平滑的曲线，阶跃函数以0为界发生急剧的变化\n",
    "- 阶跃函数只能返回0或1，而sigmoid函数可以返回0和1之间的实数，感知机中流动的是0或1的二元信号，神经网络中流动的是连续的实值信号\n",
    "- 两则当输入小时，输出接近0（为0） 随着输入增大，输出向1靠近 且输出信号的值都在0到1之间"
   ]
  },
  {
   "cell_type": "markdown",
   "id": "figured-decade",
   "metadata": {},
   "source": [
    "神经网络的激活函数必须使用非线性函数，因为使用线性函数的话，加深神经网络的层数就没有意义了。"
   ]
  },
  {
   "cell_type": "markdown",
   "id": "rocky-updating",
   "metadata": {},
   "source": [
    "- ReLU函数"
   ]
  },
  {
   "cell_type": "markdown",
   "id": "intimate-projection",
   "metadata": {},
   "source": [
    "$\n",
    "y=\\left\\{\\begin{array}{ll}\n",
    "x & \\text{ $x > 0 $ } \\\\\n",
    "0 & \\text{ $x \\le 0$ }\n",
    "\\end{array}\\right.\n",
    "$"
   ]
  },
  {
   "cell_type": "code",
   "execution_count": 7,
   "id": "measured-cloud",
   "metadata": {},
   "outputs": [],
   "source": [
    "def relu(x):\n",
    "    return np.maximum(0,x)"
   ]
  },
  {
   "cell_type": "code",
   "execution_count": 8,
   "id": "wicked-therapist",
   "metadata": {},
   "outputs": [
    {
     "data": {
      "image/png": "[encoded data removed]",
      "text/plain": [
       "<Figure size 432x288 with 1 Axes>"
      ]
     },
     "metadata": {
      "needs_background": "light"
     },
     "output_type": "display_data"
    }
   ],
   "source": [
    "# ReLU函数图像\n",
    "relu_inputs = np.arange(-10,10)\n",
    "relu_outputs = relu(sigmoid_inputs)\n",
    "\n",
    "plt.plot(relu_inputs,relu_outputs)\n",
    "plt.xlabel(\"Relu Inputs\")\n",
    "plt.ylabel(\"Relu Outputs\")\n",
    "plt.show()"
   ]
  },
  {
   "cell_type": "markdown",
   "id": "optimum-notebook",
   "metadata": {},
   "source": [
    "### 3.3 输出层函数——恒等函数和softmax函数 "
   ]
  },
  {
   "cell_type": "markdown",
   "id": "illegal-bread",
   "metadata": {},
   "source": [
    "一般而言，回归问题用恒等函数，分类问题用softmax函数\n",
    "\n",
    "p.s. 回归问题 根据某个输入预测一个连续型数值"
   ]
  },
  {
   "cell_type": "markdown",
   "id": "thousand-drawing",
   "metadata": {},
   "source": [
    "softmax函数：\n",
    "\n",
    "$ y_k = \\frac{exp(a_k)}{\\sum\\limits_{i=1}^n exp(a_i)}$\n",
    "\n",
    "softmax函数的输出是0.0到1.0之间的实数 且输出总和为1"
   ]
  },
  {
   "cell_type": "markdown",
   "id": "pressing-backing",
   "metadata": {},
   "source": [
    "- softmax函数"
   ]
  },
  {
   "cell_type": "code",
   "execution_count": 9,
   "id": "thick-bulgarian",
   "metadata": {},
   "outputs": [],
   "source": [
    "import numpy as np\n",
    "\n",
    "def softmax(x):\n",
    "    orig_shape=x.shape\n",
    "    if len(x.shape)>1:\n",
    "        #Matrix\n",
    "        #shift max whithin each row\n",
    "        constant_shift=np.max(x,axis=1).reshape(1,-1)\n",
    "        x-=constant_shift\n",
    "        x=np.exp(x)\n",
    "        normlize=np.sum(x,axis=1).reshape(1,-1)\n",
    "        x/=normlize\n",
    "    else:\n",
    "        #vector\n",
    "        constant_shift=np.max(x)\n",
    "        x-=constant_shift\n",
    "        x=np.exp(x)\n",
    "        normlize=np.sum(x)\n",
    "        x/=normlize\n",
    "    assert x.shape==orig_shape\n",
    "    return x"
   ]
  },
  {
   "cell_type": "code",
   "execution_count": 10,
   "id": "healthy-lewis",
   "metadata": {},
   "outputs": [
    {
     "data": {
      "image/png": "[encoded data removed]",
      "text/plain": [
       "<Figure size 432x288 with 1 Axes>"
      ]
     },
     "metadata": {
      "needs_background": "light"
     },
     "output_type": "display_data"
    },
    {
     "name": "stdout",
     "output_type": "stream",
     "text": [
      "sum(output) =1.0\n"
     ]
    }
   ],
   "source": [
    "def softmax(x):\n",
    "    orig_shape=x.shape\n",
    "    if len(x.shape)>1:\n",
    "        #Matrix\n",
    "        #shift max whithin each row\n",
    "        constant_shift=np.max(x,axis=1).reshape(1,-1)\n",
    "        x-=constant_shift\n",
    "        x=np.exp(x)\n",
    "        normlize=np.sum(x,axis=1).reshape(1,-1)\n",
    "        x/=normlize\n",
    "    else:\n",
    "        #vector\n",
    "        constant_shift=np.max(x)\n",
    "        x-=constant_shift\n",
    "        x=np.exp(x)\n",
    "        normlize=np.sum(x)\n",
    "        x/=normlize\n",
    "    assert x.shape==orig_shape\n",
    "    return x\n",
    "\n",
    "softmax_inputs = np.arange(-10,10)\n",
    "softmax_outputs=softmax(softmax_inputs)\n",
    "\n",
    "# 画图像\n",
    "plt.plot(softmax_inputs,softmax_outputs)\n",
    "plt.xlabel(\"Softmax Inputs\")\n",
    "plt.ylabel(\"Softmax Outputs\")\n",
    "plt.show()\n",
    "\n",
    "print(f'sum(output) ={sum(softmax_outputs)}')"
   ]
  },
  {
   "cell_type": "markdown",
   "id": "superior-archives",
   "metadata": {},
   "source": [
    "## 3.4 3层神经网络的计算 "
   ]
  },
  {
   "cell_type": "code",
   "execution_count": 11,
   "id": "according-stroke",
   "metadata": {},
   "outputs": [
    {
     "data": {
      "text/plain": [
       "array([0.3, 0.7, 1.1])"
      ]
     },
     "execution_count": 11,
     "metadata": {},
     "output_type": "execute_result"
    }
   ],
   "source": [
    "# 第0层到第1层信号的传递\n",
    "X = np.array([1.0,0.5])\n",
    "W1 = np.array([[0.1,0.3,0.5],[0.2,0.4,0.6]]) \n",
    "B1 = np.array([0.1,0.2,0.3])\n",
    "A1 = np.dot(X,W1) + B1\n",
    "A1"
   ]
  },
  {
   "cell_type": "code",
   "execution_count": 12,
   "id": "dominican-swimming",
   "metadata": {},
   "outputs": [
    {
     "data": {
      "text/plain": [
       "array([0.57444252, 0.66818777, 0.75026011])"
      ]
     },
     "execution_count": 12,
     "metadata": {},
     "output_type": "execute_result"
    }
   ],
   "source": [
    "Z1 = sigmoid(A1)\n",
    "Z1\n",
    "# 隐藏层的加权和用A表示，别激活函数转换后的信号用z表示 "
   ]
  },
  {
   "cell_type": "code",
   "execution_count": 13,
   "id": "recovered-soundtrack",
   "metadata": {},
   "outputs": [
    {
     "data": {
      "text/plain": [
       "array([0.51615984, 1.21402696])"
      ]
     },
     "execution_count": 13,
     "metadata": {},
     "output_type": "execute_result"
    }
   ],
   "source": [
    "# 第1层到第2层的信号传递\n",
    "W2 = np.array([[0.1,0.4],[0.2,0.5],[0.3,0.6]])\n",
    "B2 = np.array([0.1,0.2])\n",
    "A2 = np.dot(Z1,W2) + B2\n",
    "A2"
   ]
  },
  {
   "cell_type": "code",
   "execution_count": 14,
   "id": "romance-arthritis",
   "metadata": {},
   "outputs": [
    {
     "data": {
      "text/plain": [
       "array([0.62624937, 0.7710107 ])"
      ]
     },
     "execution_count": 14,
     "metadata": {},
     "output_type": "execute_result"
    }
   ],
   "source": [
    "Z2 = sigmoid(A2)\n",
    "Z2"
   ]
  },
  {
   "cell_type": "code",
   "execution_count": 15,
   "id": "silver-ministry",
   "metadata": {},
   "outputs": [
    {
     "data": {
      "text/plain": [
       "array([0.31682708, 0.69627909])"
      ]
     },
     "execution_count": 15,
     "metadata": {},
     "output_type": "execute_result"
    }
   ],
   "source": [
    "# 从第2层到输出层的信号传递\n",
    "def identity_function(x):\n",
    "    return x\n",
    "\n",
    "W3 = np.array([[0.1,0.3],[0.2,0.4]])\n",
    "B3 = np.array([0.1,0.2])\n",
    "A3 = np.dot(Z2,W3) + B3\n",
    "A3"
   ]
  },
  {
   "cell_type": "code",
   "execution_count": 16,
   "id": "victorian-nepal",
   "metadata": {},
   "outputs": [
    {
     "data": {
      "text/plain": [
       "array([0.31682708, 0.69627909])"
      ]
     },
     "execution_count": 16,
     "metadata": {},
     "output_type": "execute_result"
    }
   ],
   "source": [
    "Y = identity_function(A3)\n",
    "Y"
   ]
  },
  {
   "cell_type": "markdown",
   "id": "attended-vietnamese",
   "metadata": {},
   "source": [
    "输出层所用的激活函数，回归问题可以用恒等函数 二元分类问题可以用sigmoid函数 多元分类问题可以用softmax函数"
   ]
  },
  {
   "cell_type": "code",
   "execution_count": 17,
   "id": "cubic-perth",
   "metadata": {},
   "outputs": [
    {
     "name": "stdout",
     "output_type": "stream",
     "text": [
      "[0.31682708 0.69627909]\n"
     ]
    }
   ],
   "source": [
    "# 代码实现小结\n",
    "def init_network():\n",
    "    network = {}\n",
    "    network['W1'] = np.array([[0.1,0.3,0.5],[0.2,0.4,0.6]])\n",
    "    network['b1'] = np.array([0.1,0.2,0.3])\n",
    "    network['W2'] = np.array([[0.1,0.4],[0.2,0.5],[0.3,0.6]])\n",
    "    network['b2'] = np.array([0.1,0.2])\n",
    "    network['W3'] = np.array([[0.1,0.3],[0.2,0.4]])\n",
    "    network['b3'] = np.array([0.1,0.2])\n",
    "    return network\n",
    "\n",
    "def forward(network,x):\n",
    "    W1,W2,W3 = network['W1'],network['W2'],network['W3']\n",
    "    b1,b2,b3 = network['b1'],network['b2'],network['b3']\n",
    "    \n",
    "    a1 = np.dot(x,W1) + b1\n",
    "    z1 = sigmoid(a1)\n",
    "    a2 = np.dot(z1,W2) +b2\n",
    "    z2 = sigmoid(a2)\n",
    "    a3 = np.dot(z2,W3) +b3\n",
    "    y = identity_function(a3)\n",
    "    return y \n",
    "\n",
    "network = init_network()\n",
    "x = np.array([1.0,0.5])\n",
    "y = forward(network,x)\n",
    "print(y)"
   ]
  },
  {
   "cell_type": "code",
   "execution_count": 18,
   "id": "connected-antibody",
   "metadata": {},
   "outputs": [
    {
     "name": "stdout",
     "output_type": "stream",
     "text": [
      "[0.33432709 0.73517497]\n"
     ]
    }
   ],
   "source": [
    "network = init_network()\n",
    "x = np.array([0.5,10])\n",
    "y = forward(network,x)\n",
    "print(y)"
   ]
  },
  {
   "cell_type": "markdown",
   "id": "decent-smile",
   "metadata": {},
   "source": [
    "## 3.5输出层的设计 "
   ]
  },
  {
   "cell_type": "markdown",
   "id": "studied-recorder",
   "metadata": {},
   "source": [
    "一般而言，回归问题用恒等函数，分类问题用softmax函数\n",
    "\n",
    "p.s. 回归问题 根据某个输入预测一个连续型数值"
   ]
  },
  {
   "cell_type": "markdown",
   "id": "fourth-square",
   "metadata": {},
   "source": [
    "softmax函数：\n",
    "\n",
    "$ y_k = \\frac{exp(a_{k})}{\\sum\\limits_{i=1}^n exp(a_i)}$\n",
    "\n",
    "softmax函数的输出是0.0到1.0之间的实数 且输出总和为1"
   ]
  },
  {
   "cell_type": "code",
   "execution_count": 19,
   "id": "dress-memory",
   "metadata": {},
   "outputs": [
    {
     "data": {
      "text/plain": [
       "array([0.01821127, 0.24519181, 0.73659691])"
      ]
     },
     "execution_count": 19,
     "metadata": {},
     "output_type": "execute_result"
    }
   ],
   "source": [
    "# softmax函数的实现\n",
    "def softmax(a):\n",
    "    exp_a = np.exp(a)\n",
    "    sum_exp_a = np.sum(exp_a)\n",
    "    y = exp_a / sum_exp_a\n",
    "    return y\n",
    "softmax([0.3,2.9,4.0])"
   ]
  },
  {
   "cell_type": "markdown",
   "id": "incorrect-output",
   "metadata": {},
   "source": [
    "softmax函数可能会出现“溢出”问题 计算机处理的数必须在4字节或8字节的有限数据宽度内"
   ]
  },
  {
   "cell_type": "code",
   "execution_count": 20,
   "id": "ancient-orange",
   "metadata": {},
   "outputs": [
    {
     "name": "stderr",
     "output_type": "stream",
     "text": [
      "e:\\software\\miniconda\\lib\\site-packages\\ipykernel_launcher.py:2: RuntimeWarning: overflow encountered in exp\n",
      "  \n",
      "e:\\software\\miniconda\\lib\\site-packages\\ipykernel_launcher.py:2: RuntimeWarning: invalid value encountered in true_divide\n",
      "  \n"
     ]
    },
    {
     "data": {
      "text/plain": [
       "array([nan, nan, nan])"
      ]
     },
     "execution_count": 20,
     "metadata": {},
     "output_type": "execute_result"
    }
   ],
   "source": [
    "a = np.array([1010,1000,990])\n",
    "np.exp(a)/np.sum(np.exp(a))"
   ]
  },
  {
   "cell_type": "code",
   "execution_count": 21,
   "id": "liquid-census",
   "metadata": {},
   "outputs": [
    {
     "data": {
      "text/plain": [
       "array([9.99954600e-01, 4.53978686e-05, 2.06106005e-09])"
      ]
     },
     "execution_count": 21,
     "metadata": {},
     "output_type": "execute_result"
    }
   ],
   "source": [
    "def softmax(a):\n",
    "    c = np.max(a)\n",
    "    exp_a = np.exp(a-c)              #溢出对策\n",
    "    sum_exp_a = np.sum(exp_a)\n",
    "    y = exp_a / sum_exp_a\n",
    "    return y\n",
    "softmax([1010,1000,990])"
   ]
  },
  {
   "cell_type": "markdown",
   "id": "timely-measurement",
   "metadata": {},
   "source": [
    "一般而言，神经网络只把输出值最大的神经元所对应的类别作为识别结果"
   ]
  },
  {
   "cell_type": "markdown",
   "id": "processed-niagara",
   "metadata": {},
   "source": [
    "## 3.6手写数字识别 "
   ]
  },
  {
   "cell_type": "code",
   "execution_count": 22,
   "id": "coupled-reservation",
   "metadata": {},
   "outputs": [
    {
     "name": "stdout",
     "output_type": "stream",
     "text": [
      "Converting train-images-idx3-ubyte.gz to NumPy Array ...\n",
      "Done\n",
      "Converting train-labels-idx1-ubyte.gz to NumPy Array ...\n",
      "Done\n",
      "Converting t10k-images-idx3-ubyte.gz to NumPy Array ...\n",
      "Done\n",
      "Converting t10k-labels-idx1-ubyte.gz to NumPy Array ...\n",
      "Done\n",
      "Creating pickle file ...\n",
      "Done!\n"
     ]
    }
   ],
   "source": [
    "%run mnist.py"
   ]
  },
  {
   "cell_type": "code",
   "execution_count": 23,
   "id": "premier-proposal",
   "metadata": {},
   "outputs": [
    {
     "name": "stdout",
     "output_type": "stream",
     "text": [
      "Converting train-images-idx3-ubyte.gz to NumPy Array ...\n",
      "Done\n",
      "Converting train-labels-idx1-ubyte.gz to NumPy Array ...\n",
      "Done\n",
      "Converting t10k-images-idx3-ubyte.gz to NumPy Array ...\n",
      "Done\n",
      "Converting t10k-labels-idx1-ubyte.gz to NumPy Array ...\n",
      "Done\n",
      "Creating pickle file ...\n",
      "Done!\n"
     ]
    }
   ],
   "source": [
    "# %load mnist.py\n",
    "#!/usr/bin/env python\n",
    "\n",
    "# In[2]:\n",
    "\n",
    "\n",
    "# coding: utf-8\n",
    "try:\n",
    "    import urllib.request\n",
    "except ImportError:\n",
    "    raise ImportError('You should use Python 3.x')\n",
    "import os.path\n",
    "import gzip\n",
    "import pickle\n",
    "import os\n",
    "import numpy as np\n",
    "\n",
    "\n",
    "url_base = 'http://yann.lecun.com/exdb/mnist/'\n",
    "key_file = {\n",
    "    'train_img':'train-images-idx3-ubyte.gz',\n",
    "    'train_label':'train-labels-idx1-ubyte.gz',\n",
    "    'test_img':'t10k-images-idx3-ubyte.gz',\n",
    "    'test_label':'t10k-labels-idx1-ubyte.gz'\n",
    "}\n",
    "\n",
    "dataset_dir = os.path.dirname(os.path.abspath('__file__'))\n",
    "save_file = dataset_dir + \"/mnist.pkl\"\n",
    "\n",
    "train_num = 60000\n",
    "test_num = 10000\n",
    "img_dim = (1, 28, 28)\n",
    "img_size = 784\n",
    "\n",
    "\n",
    "def _download(file_name):\n",
    "    file_path = dataset_dir + \"/\" + file_name\n",
    "    \n",
    "    if os.path.exists(file_path):\n",
    "        return\n",
    "\n",
    "    print(\"Downloading \" + file_name + \" ... \")\n",
    "    urllib.request.urlretrieve(url_base + file_name, file_path)\n",
    "    print(\"Done\")\n",
    "    \n",
    "def download_mnist():\n",
    "    for v in key_file.values():\n",
    "       _download(v)\n",
    "        \n",
    "def _load_label(file_name):\n",
    "    file_path = dataset_dir + \"/\" + file_name\n",
    "    \n",
    "    print(\"Converting \" + file_name + \" to NumPy Array ...\")\n",
    "    with gzip.open(file_path, 'rb') as f:\n",
    "            labels = np.frombuffer(f.read(), np.uint8, offset=8)\n",
    "    print(\"Done\")\n",
    "    \n",
    "    return labels\n",
    "\n",
    "def _load_img(file_name):\n",
    "    file_path = dataset_dir + \"/\" + file_name\n",
    "    \n",
    "    print(\"Converting \" + file_name + \" to NumPy Array ...\")    \n",
    "    with gzip.open(file_path, 'rb') as f:\n",
    "            data = np.frombuffer(f.read(), np.uint8, offset=16)\n",
    "    data = data.reshape(-1, img_size)\n",
    "    print(\"Done\")\n",
    "    \n",
    "    return data\n",
    "    \n",
    "def _convert_numpy():\n",
    "    dataset = {}\n",
    "    dataset['train_img'] =  _load_img(key_file['train_img'])\n",
    "    dataset['train_label'] = _load_label(key_file['train_label'])    \n",
    "    dataset['test_img'] = _load_img(key_file['test_img'])\n",
    "    dataset['test_label'] = _load_label(key_file['test_label'])\n",
    "    \n",
    "    return dataset\n",
    "\n",
    "def init_mnist():\n",
    "    download_mnist()\n",
    "    dataset = _convert_numpy()\n",
    "    print(\"Creating pickle file ...\")\n",
    "    with open(save_file, 'wb') as f:\n",
    "        pickle.dump(dataset, f, -1)\n",
    "    print(\"Done!\")\n",
    "\n",
    "def _change_one_hot_label(X):\n",
    "    T = np.zeros((X.size, 10))\n",
    "    for idx, row in enumerate(T):\n",
    "        row[X[idx]] = 1\n",
    "        \n",
    "    return T\n",
    "    \n",
    "\n",
    "def load_mnist(normalize=True, flatten=True, one_hot_label=False):\n",
    "    \"\"\"读入MNIST数据集\n",
    "    \n",
    "    Parameters\n",
    "    ----------\n",
    "    normalize : 将图像的像素值正规化为0.0~1.0\n",
    "    one_hot_label : \n",
    "        one_hot_label为True的情况下，标签作为one-hot数组返回\n",
    "        one-hot数组是指[0,0,1,0,0,0,0,0,0,0]这样的数组\n",
    "    flatten : 是否将图像展开为一维数组\n",
    "    \n",
    "    Returns\n",
    "    -------\n",
    "    (训练图像, 训练标签), (测试图像, 测试标签)\n",
    "    \"\"\"\n",
    "    if not os.path.exists(save_file):\n",
    "        init_mnist()\n",
    "        \n",
    "    with open(save_file, 'rb') as f:\n",
    "        dataset = pickle.load(f)\n",
    "    \n",
    "    if normalize:\n",
    "        for key in ('train_img', 'test_img'):\n",
    "            dataset[key] = dataset[key].astype(np.float32)\n",
    "            dataset[key] /= 255.0\n",
    "            \n",
    "    if one_hot_label:\n",
    "        dataset['train_label'] = _change_one_hot_label(dataset['train_label'])\n",
    "        dataset['test_label'] = _change_one_hot_label(dataset['test_label'])\n",
    "    \n",
    "    if not flatten:\n",
    "         for key in ('train_img', 'test_img'):\n",
    "            dataset[key] = dataset[key].reshape(-1, 1, 28, 28)\n",
    "\n",
    "    return (dataset['train_img'], dataset['train_label']), (dataset['test_img'], dataset['test_label']) \n",
    "\n",
    "\n",
    "if __name__ == '__main__':\n",
    "    init_mnist()\n",
    "\n"
   ]
  },
  {
   "cell_type": "code",
   "execution_count": 24,
   "id": "frequent-coast",
   "metadata": {},
   "outputs": [
    {
     "name": "stdout",
     "output_type": "stream",
     "text": [
      "5\n",
      "(784,)\n",
      "(28, 28)\n"
     ]
    }
   ],
   "source": [
    "# %load D:\\datasets\\Deep learning from scratch\\【源代码】深度学习入门：基于Python的理论与实现\\ch03\\mnist_show.py\n",
    "import sys, os\n",
    "sys.path.append(os.pardir)  # 为了导入父目录的文件而进行的设定\n",
    "import numpy as np\n",
    "from mnist import load_mnist\n",
    "from PIL import Image\n",
    "\n",
    "\n",
    "def img_show(img):\n",
    "    pil_img = Image.fromarray(np.uint8(img))\n",
    "    pil_img.show()                            #将保存为ndarray的图像数据转换为PIL用的数据对象\n",
    "\n",
    "(x_train, t_train), (x_test, t_test) = load_mnist(flatten=True, normalize=False)\n",
    "\n",
    "img = x_train[0]\n",
    "label = t_train[0]\n",
    "print(label)  # 5\n",
    "\n",
    "print(img.shape)  # (784,)\n",
    "img = img.reshape(28, 28)  # 把图像的形状变为原来的尺寸\n",
    "print(img.shape)  # (28, 28)\n",
    "\n",
    "img_show(img)              "
   ]
  },
  {
   "cell_type": "markdown",
   "id": "strange-increase",
   "metadata": {},
   "source": [
    "对MNIST数据集实现神经网络的前推处理"
   ]
  },
  {
   "cell_type": "code",
   "execution_count": 25,
   "id": "quarterly-hacker",
   "metadata": {},
   "outputs": [
    {
     "name": "stdout",
     "output_type": "stream",
     "text": [
      "Accuracy:0.9352\n"
     ]
    }
   ],
   "source": [
    "# %load D:\\datasets\\Deep learning from scratch\\【源代码】深度学习入门：基于Python的理论与实现\\ch03\\neuralnet_mnist.py\n",
    "import sys, os\n",
    "sys.path.append(os.pardir)  # 为了导入父目录的文件而进行的设定\n",
    "import numpy as np\n",
    "import pickle\n",
    "from mnist import load_mnist\n",
    "#from common.functions import sigmoid, softmax    报错，再写\n",
    "def sigmoid(x):\n",
    "    return 1.0/(1 + np.exp(-x))\n",
    "\n",
    "def softmax(a):\n",
    "    c = np.max(a)\n",
    "    exp_a = np.exp(a-c)              #溢出对策\n",
    "    sum_exp_a = np.sum(exp_a)\n",
    "    y = exp_a / sum_exp_a\n",
    "    return y\n",
    "\n",
    "def get_data():\n",
    "    (x_train, t_train), (x_test, t_test) = load_mnist(normalize=True, flatten=True, one_hot_label=False)\n",
    "    return x_test, t_test\n",
    "\n",
    "\n",
    "def init_network():\n",
    "    with open(\"sample_weight.pkl\", 'rb') as f:\n",
    "        network = pickle.load(f)\n",
    "    return network                          #init_network会读入保存在pickle文件sample_weight.pkl中学习到的权重参数\n",
    "\n",
    "\n",
    "def predict(network, x):\n",
    "    W1, W2, W3 = network['W1'], network['W2'], network['W3']\n",
    "    b1, b2, b3 = network['b1'], network['b2'], network['b3']\n",
    "\n",
    "    a1 = np.dot(x, W1) + b1\n",
    "    z1 = sigmoid(a1)\n",
    "    a2 = np.dot(z1, W2) + b2\n",
    "    z2 = sigmoid(a2)\n",
    "    a3 = np.dot(z2, W3) + b3\n",
    "    y = softmax(a3)\n",
    "\n",
    "    return y\n",
    "\n",
    "\n",
    "x, t = get_data()\n",
    "network = init_network()\n",
    "accuracy_cnt = 0\n",
    "for i in range(len(x)):\n",
    "    y = predict(network, x[i])\n",
    "    p= np.argmax(y) # 获取概率最高的元素的索引\n",
    "    if p == t[i]:\n",
    "        accuracy_cnt += 1\n",
    "\n",
    "print(\"Accuracy:\" + str(float(accuracy_cnt) / len(x)))"
   ]
  },
  {
   "cell_type": "code",
   "execution_count": 26,
   "id": "partial-nebraska",
   "metadata": {},
   "outputs": [
    {
     "data": {
      "text/plain": [
       "(10000, 784)"
      ]
     },
     "execution_count": 26,
     "metadata": {},
     "output_type": "execute_result"
    }
   ],
   "source": [
    "x, _ = get_data()\n",
    "network = init_network()\n",
    "W1,W2,W3 = network['W1'], network['W2'], network['W3']\n",
    "x.shape"
   ]
  },
  {
   "cell_type": "code",
   "execution_count": 27,
   "id": "italic-hearing",
   "metadata": {},
   "outputs": [
    {
     "data": {
      "text/plain": [
       "(784,)"
      ]
     },
     "execution_count": 27,
     "metadata": {},
     "output_type": "execute_result"
    }
   ],
   "source": [
    "x[0].shape"
   ]
  },
  {
   "cell_type": "code",
   "execution_count": 28,
   "id": "israeli-stanley",
   "metadata": {},
   "outputs": [
    {
     "data": {
      "text/plain": [
       "(784, 50)"
      ]
     },
     "execution_count": 28,
     "metadata": {},
     "output_type": "execute_result"
    }
   ],
   "source": [
    "W1.shape"
   ]
  },
  {
   "cell_type": "code",
   "execution_count": 29,
   "id": "rapid-leader",
   "metadata": {},
   "outputs": [
    {
     "data": {
      "text/plain": [
       "(50, 100)"
      ]
     },
     "execution_count": 29,
     "metadata": {},
     "output_type": "execute_result"
    }
   ],
   "source": [
    "W2.shape"
   ]
  },
  {
   "cell_type": "code",
   "execution_count": 30,
   "id": "recorded-dream",
   "metadata": {},
   "outputs": [
    {
     "data": {
      "text/plain": [
       "(100, 10)"
      ]
     },
     "execution_count": 30,
     "metadata": {},
     "output_type": "execute_result"
    }
   ],
   "source": [
    "W3.shape"
   ]
  },
  {
   "cell_type": "markdown",
   "id": "orange-latino",
   "metadata": {},
   "source": [
    "输入一个由784个元素（原本是一个28*28的二维数组）构成的一维数组之后，输出一个有10个元素的一维数组 这是一张图像数据时的处理流程"
   ]
  },
  {
   "cell_type": "markdown",
   "id": "otherwise-concept",
   "metadata": {},
   "source": [
    "考虑输入多张图片的情形，比如一次性打包处理100张图像，可以将输入x的形状变为100*784，将100张图像打包作为输入数据。"
   ]
  },
  {
   "cell_type": "markdown",
   "id": "statistical-frame",
   "metadata": {},
   "source": [
    "这种打包式输入数据称为批"
   ]
  },
  {
   "cell_type": "code",
   "execution_count": 31,
   "id": "desirable-extreme",
   "metadata": {},
   "outputs": [
    {
     "name": "stdout",
     "output_type": "stream",
     "text": [
      "Accuracy:0.9352\n"
     ]
    }
   ],
   "source": [
    "# 批处理的代码实现\n",
    "x,t = get_data()\n",
    "network = init_network()\n",
    "\n",
    "batch_size = 100\n",
    "accuracy_cnt = 0\n",
    "\n",
    "for i in range(0,len(x),batch_size):\n",
    "    x_batch = x[i:i+batch_size]             #x[0:100] x[100:200]\n",
    "    y_batch = predict(network,x_batch)\n",
    "    p = np.argmax(y_batch,axis=1)\n",
    "    accuracy_cnt += np.sum(p == t[i:i+batch_size])\n",
    "    \n",
    "print(\"Accuracy:\" + str(float(accuracy_cnt)/len(x)))"
   ]
  }
 ],
 "metadata": {
  "kernelspec": {
   "display_name": "Python 3",
   "language": "python",
   "name": "python3"
  },
  "language_info": {
   "codemirror_mode": {
    "name": "ipython",
    "version": 3
   },
   "file_extension": ".py",
   "mimetype": "text/x-python",
   "name": "python",
   "nbconvert_exporter": "python",
   "pygments_lexer": "ipython3",
   "version": "3.7.6"
  }
 },
 "nbformat": 4,
 "nbformat_minor": 5
}
