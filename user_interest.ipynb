{
 "cells": [
  {
   "cell_type": "code",
   "execution_count": 1,
   "id": "aa58f20e-6bf5-48fc-a6f3-7a551c90887c",
   "metadata": {},
   "outputs": [],
   "source": [
    "import re\n",
    "import sqlalchemy\n",
    "from sqlalchemy import exc\n",
    "import pandas as pd \n",
    "import psycopg2\n",
    "import time\n",
    "import datetime"
   ]
  },
  {
   "cell_type": "code",
   "execution_count": 2,
   "id": "23969374-fa62-4330-a153-8725982d6331",
   "metadata": {},
   "outputs": [],
   "source": [
    "post_host = \"192.168.11.192\"\n",
    "post_port = \"5432\"\n",
    "post_user = \"postgres\"\n",
    "post_password = \"123456\"\n",
    "post_db_name = \"wb_data\"\n",
    "\n",
    "def conn_sqlalchemy(user,password,host,port,db_name):\n",
    "    \"\"\"\n",
    "    make a connection to postgresql use sqlalchemy toolkit\n",
    "\n",
    "    \"\"\"\n",
    "    try:\n",
    "        url = 'postgresql://%s:%s@%s:%s/%s' %(user,password,host,port,db_name)\n",
    "        engine = sqlalchemy.create_engine(url)\n",
    "\n",
    "        \n",
    "\n",
    "    except (Exception, exc.DisconnectionError) as e:\n",
    "        return 1\n",
    "\n",
    "    return engine\n",
    "\n",
    "\n",
    "engine = conn_sqlalchemy(post_user,post_password,post_host,post_port,post_db_name) #  连接数据库        "
   ]
  },
  {
   "cell_type": "code",
   "execution_count": 3,
   "id": "11f5e8d6-d1a7-4592-b633-1e0cc30fbdc8",
   "metadata": {},
   "outputs": [],
   "source": [
    "def tweet_show(engine):\n",
    "    '''\n",
    "    读取common_user_tweet数据库中的用户id，发表时间和微博内容三列\n",
    "    '''\n",
    "#     engine = conn_sqlalchemy(user,password,host,port,db_name)\n",
    "    sql = 'select user_id,created_at,content from common_user_tweet limit 10000'\n",
    "#     df = pd.read_sql_query(sql,engine)\n",
    "    df = pd.read_sql(sql,engine)\n",
    "#     df_kol = df.loc[:,['kol_unique_name','_id','brand_unique_name','nick_name','province','birthday','user_type','fan_num']]\n",
    "#     df_kol = df.loc[:,['_id','nick_name','province','birthday','user_type','fan_num']]\n",
    "#     df_kol = df_kol.loc[(df_kol['user_type'])==0] # 提取标签为kol的用户\n",
    "#     df_kol = df_kol.loc[:,['_id','nick_name','province','birthday','fan_num']]\n",
    "    \n",
    "    return df\n",
    "\n",
    "content_df = tweet_show(engine)"
   ]
  },
  {
   "cell_type": "code",
   "execution_count": 4,
   "id": "cf887043-6af1-4df9-915a-1e76d6e89f52",
   "metadata": {},
   "outputs": [],
   "source": [
    "def content_clean(text):\n",
    "    '''\n",
    "    把微博中的表情、#号、位置信息和@内容清洗掉\n",
    "    '''\n",
    "#     text = '#开心#今天好开心[嘻嘻] 苏州大学 显示地图 王思媛的微博视频 转发微博 分享图片//@马思柳:'\n",
    "#     print(text)\n",
    "    try:\n",
    "        re_text = u'\\[.*?]|#| \\S*? 显示地图|转发微博|分享图片| \\S*?的微博视频 |//@.*?:|@\\S*? |@\\S*?$'\n",
    "        text = re.sub(re_text, '', text)    \n",
    "        pure_text = ''\n",
    "        for letter in text:\n",
    "            if letter.isalpha() or letter==' ':\n",
    "                pure_text += letter\n",
    "\n",
    "        text = ' '.join(word for word in pure_text.split() if len(word)>1)\n",
    "\n",
    "        return text\n",
    "    except:\n",
    "        pass"
   ]
  },
  {
   "cell_type": "code",
   "execution_count": 5,
   "id": "e33b7e0d-079b-4a9b-af99-7dcd7e7c0ee5",
   "metadata": {},
   "outputs": [
    {
     "data": {
      "text/html": [
       "<div>\n",
       "<style scoped>\n",
       "    .dataframe tbody tr th:only-of-type {\n",
       "        vertical-align: middle;\n",
       "    }\n",
       "\n",
       "    .dataframe tbody tr th {\n",
       "        vertical-align: top;\n",
       "    }\n",
       "\n",
       "    .dataframe thead th {\n",
       "        text-align: right;\n",
       "    }\n",
       "</style>\n",
       "<table border=\"1\" class=\"dataframe\">\n",
       "  <thead>\n",
       "    <tr style=\"text-align: right;\">\n",
       "      <th></th>\n",
       "      <th>user_id</th>\n",
       "      <th>created_at</th>\n",
       "      <th>content</th>\n",
       "    </tr>\n",
       "  </thead>\n",
       "  <tbody>\n",
       "    <tr>\n",
       "      <th>0</th>\n",
       "      <td>5416945667</td>\n",
       "      <td>2021-07-01 22:27:00</td>\n",
       "      <td>转发微博</td>\n",
       "    </tr>\n",
       "    <tr>\n",
       "      <th>1</th>\n",
       "      <td>5416945667</td>\n",
       "      <td>2021-07-01 06:12:00</td>\n",
       "      <td>分享图片 太原 显示地图</td>\n",
       "    </tr>\n",
       "    <tr>\n",
       "      <th>2</th>\n",
       "      <td>5416945667</td>\n",
       "      <td>2021-07-01 06:03:00</td>\n",
       "      <td>祝你幸福</td>\n",
       "    </tr>\n",
       "    <tr>\n",
       "      <th>3</th>\n",
       "      <td>5416945667</td>\n",
       "      <td>2021-07-01 05:46:00</td>\n",
       "      <td>转发微博</td>\n",
       "    </tr>\n",
       "    <tr>\n",
       "      <th>4</th>\n",
       "      <td>5416945667</td>\n",
       "      <td>2021-07-01 05:46:00</td>\n",
       "      <td>转发微博</td>\n",
       "    </tr>\n",
       "  </tbody>\n",
       "</table>\n",
       "</div>"
      ],
      "text/plain": [
       "      user_id          created_at       content\n",
       "0  5416945667 2021-07-01 22:27:00          转发微博\n",
       "1  5416945667 2021-07-01 06:12:00  分享图片 太原 显示地图\n",
       "2  5416945667 2021-07-01 06:03:00          祝你幸福\n",
       "3  5416945667 2021-07-01 05:46:00          转发微博\n",
       "4  5416945667 2021-07-01 05:46:00          转发微博"
      ]
     },
     "execution_count": 5,
     "metadata": {},
     "output_type": "execute_result"
    }
   ],
   "source": [
    "content_df.head()"
   ]
  },
  {
   "cell_type": "code",
   "execution_count": 6,
   "id": "ce9f0558-a89d-4d16-8c17-293fdc393346",
   "metadata": {},
   "outputs": [],
   "source": [
    "#增加一列保存清洗过的微博内容\n",
    "content_df['content_cleaned'] = ''\n",
    "for i in range(content_df.shape[0]):\n",
    "    content_df.loc[i,'content_cleaned'] = content_clean(content_df.loc[i,'content'])"
   ]
  },
  {
   "cell_type": "code",
   "execution_count": 7,
   "id": "14e11384-5a5f-4848-bcb1-55169addfb99",
   "metadata": {},
   "outputs": [],
   "source": [
    "#确保微博发布时间在近三个月内\n",
    "start_time = '2021-04-13 08:30:00'\n",
    "content_df = content_df[content_df['created_at'] > start_time]"
   ]
  },
  {
   "cell_type": "markdown",
   "id": "28f42245-09e6-461d-816a-dd723e9336e3",
   "metadata": {},
   "source": [
    "以上为微博内容读取和清洗的部分"
   ]
  },
  {
   "cell_type": "markdown",
   "id": "456433cb-5802-405d-bf8b-9b2fd68ebd85",
   "metadata": {},
   "source": [
    "以下为根据微博内容和关键词表对照的部分"
   ]
  },
  {
   "cell_type": "code",
   "execution_count": 9,
   "id": "aad961e2-5c67-4232-a4cd-4edbf1d79b95",
   "metadata": {},
   "outputs": [
    {
     "name": "stdout",
     "output_type": "stream",
     "text": [
      "20\n",
      "9960\n"
     ]
    }
   ],
   "source": [
    "#从抽奖关键词库中提取关键词\n",
    "lottery_keywords = []\n",
    "with open('word_stock/keywords/lottery.txt',encoding='utf-8') as f:\n",
    "    while True:\n",
    "        lines = f.readline()    #按行读取抽奖关键词\n",
    "        if not lines:\n",
    "            break\n",
    "            pass\n",
    "        lottery_keywords.append(lines[0:-1])    #保存关键词\n",
    "        pass\n",
    "f.close()\n",
    "\n",
    "#增加\"抽奖关键词数\"列，统计出现抽奖关键词的个数\n",
    "content_df['lottery_word_num'] = 0\n",
    "\n",
    "error = 0\n",
    "nonerror = 0\n",
    "\n",
    "for i in range(content_df.shape[0]):\n",
    "    try:\n",
    "        for keyword in lottery_keywords:\n",
    "            if keyword in str(content_df.loc[i,'content_cleaned']):\n",
    "                content_df.loc[i,'lottery_word_num'] += 1\n",
    "        nonerror += 1\n",
    "\n",
    "    except:\n",
    "        error += 1\n",
    "        pass\n",
    "    \n",
    "    \n",
    "print(error)\n",
    "print(nonerror)"
   ]
  },
  {
   "cell_type": "code",
   "execution_count": null,
   "id": "361577bb-87a8-4888-b375-9c43cc9ebe0c",
   "metadata": {},
   "outputs": [],
   "source": [
    "# common_tweet_user_lottery[common_tweet_user_lottery['lottery_word_num']!=0]"
   ]
  },
  {
   "cell_type": "code",
   "execution_count": 10,
   "id": "9afc4086-ee6a-43dd-9ab1-ed510e0b0ccd",
   "metadata": {},
   "outputs": [
    {
     "name": "stdout",
     "output_type": "stream",
     "text": [
      "20\n",
      "9960\n"
     ]
    }
   ],
   "source": [
    "#从健身关键词库中提取关键词\n",
    "fitness_keywords = []\n",
    "with open('word_stock/keywords/fitness.txt',encoding='utf-8') as f:\n",
    "    while True:\n",
    "        lines = f.readline()    #按行读取抽奖关键词\n",
    "        if not lines:\n",
    "            break\n",
    "            pass\n",
    "        fitness_keywords.append(lines[0:-1])    #保存关键词\n",
    "        pass\n",
    "f.close()\n",
    "\n",
    "nonerror = 0\n",
    "error = 0\n",
    "\n",
    "#增加\"健身关键词数\"列，统计出现健身关键词的个数\n",
    "content_df['fitness_word_num'] = 0\n",
    "for i in range(content_df.shape[0]):\n",
    "    try:\n",
    "        for keyword in fitness_keywords:\n",
    "            if keyword in str(content_df.loc[i,'content_cleaned']):\n",
    "                content_df.loc[i,'fitness_word_num'] += 1\n",
    "        nonerror += 1\n",
    "    except:\n",
    "        error += 1\n",
    "        pass\n",
    "\n",
    "print(error)\n",
    "print(nonerror)"
   ]
  },
  {
   "cell_type": "code",
   "execution_count": 11,
   "id": "ccdada70-0981-418a-bc6d-8737a1057c22",
   "metadata": {},
   "outputs": [],
   "source": [
    "#以用户id为单位统计抽奖关键词出现的个数\n",
    "user_interest = content_df.groupby(['user_id']).sum()"
   ]
  },
  {
   "cell_type": "code",
   "execution_count": 12,
   "id": "10cfcfed-c699-4a40-a283-b0b26af5423a",
   "metadata": {},
   "outputs": [
    {
     "data": {
      "text/html": [
       "<div>\n",
       "<style scoped>\n",
       "    .dataframe tbody tr th:only-of-type {\n",
       "        vertical-align: middle;\n",
       "    }\n",
       "\n",
       "    .dataframe tbody tr th {\n",
       "        vertical-align: top;\n",
       "    }\n",
       "\n",
       "    .dataframe thead th {\n",
       "        text-align: right;\n",
       "    }\n",
       "</style>\n",
       "<table border=\"1\" class=\"dataframe\">\n",
       "  <thead>\n",
       "    <tr style=\"text-align: right;\">\n",
       "      <th></th>\n",
       "      <th>lottery_word_num</th>\n",
       "      <th>fitness_word_num</th>\n",
       "    </tr>\n",
       "    <tr>\n",
       "      <th>user_id</th>\n",
       "      <th></th>\n",
       "      <th></th>\n",
       "    </tr>\n",
       "  </thead>\n",
       "  <tbody>\n",
       "    <tr>\n",
       "      <th>1025509673</th>\n",
       "      <td>12</td>\n",
       "      <td>1</td>\n",
       "    </tr>\n",
       "    <tr>\n",
       "      <th>1175455614</th>\n",
       "      <td>255</td>\n",
       "      <td>11</td>\n",
       "    </tr>\n",
       "    <tr>\n",
       "      <th>1422919762</th>\n",
       "      <td>279</td>\n",
       "      <td>13</td>\n",
       "    </tr>\n",
       "    <tr>\n",
       "      <th>1674578333</th>\n",
       "      <td>19</td>\n",
       "      <td>1</td>\n",
       "    </tr>\n",
       "    <tr>\n",
       "      <th>1797261550</th>\n",
       "      <td>24</td>\n",
       "      <td>8</td>\n",
       "    </tr>\n",
       "    <tr>\n",
       "      <th>...</th>\n",
       "      <td>...</td>\n",
       "      <td>...</td>\n",
       "    </tr>\n",
       "    <tr>\n",
       "      <th>7386171414</th>\n",
       "      <td>287</td>\n",
       "      <td>102</td>\n",
       "    </tr>\n",
       "    <tr>\n",
       "      <th>7389317155</th>\n",
       "      <td>6</td>\n",
       "      <td>6</td>\n",
       "    </tr>\n",
       "    <tr>\n",
       "      <th>7559186572</th>\n",
       "      <td>93</td>\n",
       "      <td>3</td>\n",
       "    </tr>\n",
       "    <tr>\n",
       "      <th>7615809713</th>\n",
       "      <td>239</td>\n",
       "      <td>9</td>\n",
       "    </tr>\n",
       "    <tr>\n",
       "      <th>7616858557</th>\n",
       "      <td>39</td>\n",
       "      <td>3</td>\n",
       "    </tr>\n",
       "  </tbody>\n",
       "</table>\n",
       "<p>95 rows × 2 columns</p>\n",
       "</div>"
      ],
      "text/plain": [
       "            lottery_word_num  fitness_word_num\n",
       "user_id                                       \n",
       "1025509673                12                 1\n",
       "1175455614               255                11\n",
       "1422919762               279                13\n",
       "1674578333                19                 1\n",
       "1797261550                24                 8\n",
       "...                      ...               ...\n",
       "7386171414               287               102\n",
       "7389317155                 6                 6\n",
       "7559186572                93                 3\n",
       "7615809713               239                 9\n",
       "7616858557                39                 3\n",
       "\n",
       "[95 rows x 2 columns]"
      ]
     },
     "execution_count": 12,
     "metadata": {},
     "output_type": "execute_result"
    }
   ],
   "source": [
    "user_interest[user_interest['fitness_word_num'] != 0]"
   ]
  }
 ],
 "metadata": {
  "kernelspec": {
   "display_name": "Python 3",
   "language": "python",
   "name": "python3"
  },
  "language_info": {
   "codemirror_mode": {
    "name": "ipython",
    "version": 3
   },
   "file_extension": ".py",
   "mimetype": "text/x-python",
   "name": "python",
   "nbconvert_exporter": "python",
   "pygments_lexer": "ipython3",
   "version": "3.8.8"
  }
 },
 "nbformat": 4,
 "nbformat_minor": 5
}
