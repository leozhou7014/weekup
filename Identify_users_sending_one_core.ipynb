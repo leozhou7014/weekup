{
 "cells": [
  {
   "cell_type": "code",
   "execution_count": null,
   "id": "satellite-windsor",
   "metadata": {},
   "outputs": [],
   "source": [
    "def user_one_tweet(label=0):\n",
    "    \n",
    "    df_clusters_i = df_clusters_sort[df_clusters_sort['cluster_label']== label]\n",
    "    Series_sort = df_clusters_i['user_id'] \n",
    "    print(f'该类中user_id的总数:{len(Series_sort.unique())}\\n')                              #该类中user_id的总数\n",
    "    \n",
    "    c = Counter(Series_sort)                                                                            \n",
    "    # print(f'user_id及其对应的次数:{c}\\n')                                                  #user_id及其对应的次数\n",
    "    \n",
    "    print(f'user_id中最常出现的ID及其次数:{c.most_common(10)}\\n')                            #user_id最常出现的ID及其次数\n",
    "    \n",
    "    c_repeat = [key for key,value in dict(c).items() if value>1]                       \n",
    "    # print(f'出现次数大于1的ID用户列表：{c_repeat}\\n')\n",
    "    c_repeat_d = {key:value for key,value in dict(c).items() if value>1}\n",
    "    \n",
    "    print(f'出现次数大于1的用户ID及出现次数：{c_repeat_d}\\n')                                #出现次数大于1的用户及其次数        \n",
    "    \n",
    "    u_property = (len(Series_sort.unique())-len(c_repeat))/len(Series_sort.unique())\n",
    "    \n",
    "    print(f'该类中只发一条微博的用户数目：{(len(Series_sort.unique())-len(c_repeat))}\\n')    #只发一条微博的用户数目\n",
    "    print(f'只发一条微博的用户占该类用户总数的{u_property*100}%')                            #只发一条微博的用户占用户总数的比例"
   ]
  }
 ],
 "metadata": {
  "kernelspec": {
   "display_name": "nlp",
   "language": "python",
   "name": "nlp"
  },
  "language_info": {
   "codemirror_mode": {
    "name": "ipython",
    "version": 3
   },
   "file_extension": ".py",
   "mimetype": "text/x-python",
   "name": "python",
   "nbconvert_exporter": "python",
   "pygments_lexer": "ipython3",
   "version": "3.8.10"
  }
 },
 "nbformat": 4,
 "nbformat_minor": 5
}
